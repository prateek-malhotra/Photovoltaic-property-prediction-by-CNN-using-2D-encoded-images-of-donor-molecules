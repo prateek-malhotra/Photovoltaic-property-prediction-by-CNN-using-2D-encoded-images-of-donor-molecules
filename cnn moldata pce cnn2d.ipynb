{
 "cells": [
  {
   "cell_type": "markdown",
   "metadata": {},
   "source": [
    "# Hands-on Deep Learning for Organic solar cell\n",
    "\n",
    "## *Using deep learning to estimate Bandgap of organic polymer and PCE of organic solar cell*\n",
    "\n",
    "## Dataset:\n",
    "The Clean Energy Project is run by Professor Alán Aspuru-Guzik and his team from the Department of Chemistry and Chemical Biology at Harvard University. They are looking to identify suitable compounds for organic electronic applications and harvesting renewable energy from the sun.\n",
    "    The HCEP dataset contains properties for over 2.4 million compounds, derived from density functional theory calculations. Properties in this dataset include principle energy levels, photovoltaic performance parameters, mass and stoichiometric formulas\n",
    "\n",
    "The composition will be specified as SMILES strings, which are a convenient way to represent the structure of organic materials. You can learn more about SMILES strings [here](https://en.wikipedia.org/wiki/Simplified_molecular-input_line-entry_system). We will use these SMILES strings as inputs to a [convolutional neural network](https://en.wikipedia.org/wiki/Convolutional_neural_network) and predict the Bandgap/PCE of organic materials. \n",
    "\n",
    "\n",
    "### Outline of this notebook:\n",
    "#### _Load and pre-process training data_ \n",
    "- Load HCEP dataset containing many organic molecules\n",
    "- Pre-process data and split to test/train sets\n",
    "\n",
    "#### _Train a Convolutional neural network (CNN)_ \n",
    "- Train a CNN to predict Bandgap/PCE\n",
    "- Predict Bandgap/PCE from any given SMILES representation of a molecule \n",
    "\n"
   ]
  },
  {
   "cell_type": "code",
   "execution_count": 1,
   "metadata": {},
   "outputs": [],
   "source": [
    "import tensorflow as tf"
   ]
  },
  {
   "cell_type": "code",
   "execution_count": 2,
   "metadata": {},
   "outputs": [
    {
     "name": "stdout",
     "output_type": "stream",
     "text": [
      "Columns in dataset: ['id', 'SMILES_str', 'stoich_str', 'mass', 'pce', 'voc', 'jsc', 'e_homo_alpha', 'e_gap_alpha', 'e_lumo_alpha', 'tmp_smiles_str']\n",
      "\n",
      "Length of dataset: 2322849\n"
     ]
    },
    {
     "data": {
      "text/html": [
       "<div>\n",
       "<style scoped>\n",
       "    .dataframe tbody tr th:only-of-type {\n",
       "        vertical-align: middle;\n",
       "    }\n",
       "\n",
       "    .dataframe tbody tr th {\n",
       "        vertical-align: top;\n",
       "    }\n",
       "\n",
       "    .dataframe thead th {\n",
       "        text-align: right;\n",
       "    }\n",
       "</style>\n",
       "<table border=\"1\" class=\"dataframe\">\n",
       "  <thead>\n",
       "    <tr style=\"text-align: right;\">\n",
       "      <th></th>\n",
       "      <th>id</th>\n",
       "      <th>SMILES_str</th>\n",
       "      <th>stoich_str</th>\n",
       "      <th>mass</th>\n",
       "      <th>pce</th>\n",
       "      <th>voc</th>\n",
       "      <th>jsc</th>\n",
       "      <th>e_homo_alpha</th>\n",
       "      <th>e_gap_alpha</th>\n",
       "      <th>e_lumo_alpha</th>\n",
       "      <th>tmp_smiles_str</th>\n",
       "    </tr>\n",
       "  </thead>\n",
       "  <tbody>\n",
       "    <tr>\n",
       "      <th>1127317</th>\n",
       "      <td>495233</td>\n",
       "      <td>c1cc2c(scc2[se]1)-c1cc2cnc3c4[se]ccc4c4cocc4c3...</td>\n",
       "      <td>C21H9NO2SSe2</td>\n",
       "      <td>497.2931</td>\n",
       "      <td>3.274334</td>\n",
       "      <td>0.732747</td>\n",
       "      <td>68.772742</td>\n",
       "      <td>-5.332747</td>\n",
       "      <td>2.202482</td>\n",
       "      <td>-3.130265</td>\n",
       "      <td>c1cc2c3cocc3c3c4oc(cc4cnc3c2[se]1)-c1scc2[se]c...</td>\n",
       "    </tr>\n",
       "    <tr>\n",
       "      <th>2030049</th>\n",
       "      <td>29696</td>\n",
       "      <td>c1cc2csc(-c3cc4oc5c(sc6ccc7c[nH]cc7c56)c4c4csc...</td>\n",
       "      <td>C24H11NOS4</td>\n",
       "      <td>457.6209</td>\n",
       "      <td>1.821964</td>\n",
       "      <td>0.272779</td>\n",
       "      <td>102.796143</td>\n",
       "      <td>-4.872779</td>\n",
       "      <td>1.948411</td>\n",
       "      <td>-2.924368</td>\n",
       "      <td>c1sc(-c2cc3oc4c(sc5ccc6c[nH]cc6c45)c3c3cscc23)...</td>\n",
       "    </tr>\n",
       "    <tr>\n",
       "      <th>360133</th>\n",
       "      <td>187978</td>\n",
       "      <td>c1cc2ccc3c4[nH]c(cc4c4nsnc4c3c2s1)-c1nccc2nsnc12</td>\n",
       "      <td>C19H8N6S3</td>\n",
       "      <td>416.5122</td>\n",
       "      <td>0.000000</td>\n",
       "      <td>0.000000</td>\n",
       "      <td>0.000000</td>\n",
       "      <td>-5.643738</td>\n",
       "      <td>1.642855</td>\n",
       "      <td>-4.000884</td>\n",
       "      <td>[nH]1c(cc2c3nsnc3c3c4sccc4ccc3c12)-c1nccc2nsnc12</td>\n",
       "    </tr>\n",
       "    <tr>\n",
       "      <th>1709897</th>\n",
       "      <td>2692193</td>\n",
       "      <td>c1[nH]cc2c1c1cc(cnc1c1ccc3ccccc3c21)-c1cccc2cc...</td>\n",
       "      <td>C29H18N2</td>\n",
       "      <td>394.4752</td>\n",
       "      <td>1.327089</td>\n",
       "      <td>0.766442</td>\n",
       "      <td>26.648226</td>\n",
       "      <td>-5.366442</td>\n",
       "      <td>2.693662</td>\n",
       "      <td>-2.672780</td>\n",
       "      <td>c1ccc2c(ccc3c4ncc(cc4c4c[nH]cc4c23)-c2cccc3ccc...</td>\n",
       "    </tr>\n",
       "    <tr>\n",
       "      <th>1359587</th>\n",
       "      <td>596643</td>\n",
       "      <td>[SiH2]1C=c2ccc3sc4c(ccc5cc(oc45)-c4cccc5cscc45...</td>\n",
       "      <td>C24H14OS2Si</td>\n",
       "      <td>410.5916</td>\n",
       "      <td>5.416927</td>\n",
       "      <td>0.601450</td>\n",
       "      <td>138.612129</td>\n",
       "      <td>-5.201450</td>\n",
       "      <td>1.743136</td>\n",
       "      <td>-3.458314</td>\n",
       "      <td>c1ccc(-c2cc3ccc4c(sc5ccc6=C[SiH2]C=c6c45)c3o2)...</td>\n",
       "    </tr>\n",
       "  </tbody>\n",
       "</table>\n",
       "</div>"
      ],
      "text/plain": [
       "              id                                         SMILES_str  \\\n",
       "1127317   495233  c1cc2c(scc2[se]1)-c1cc2cnc3c4[se]ccc4c4cocc4c3...   \n",
       "2030049    29696  c1cc2csc(-c3cc4oc5c(sc6ccc7c[nH]cc7c56)c4c4csc...   \n",
       "360133    187978   c1cc2ccc3c4[nH]c(cc4c4nsnc4c3c2s1)-c1nccc2nsnc12   \n",
       "1709897  2692193  c1[nH]cc2c1c1cc(cnc1c1ccc3ccccc3c21)-c1cccc2cc...   \n",
       "1359587   596643  [SiH2]1C=c2ccc3sc4c(ccc5cc(oc45)-c4cccc5cscc45...   \n",
       "\n",
       "           stoich_str      mass       pce       voc         jsc  e_homo_alpha  \\\n",
       "1127317  C21H9NO2SSe2  497.2931  3.274334  0.732747   68.772742     -5.332747   \n",
       "2030049    C24H11NOS4  457.6209  1.821964  0.272779  102.796143     -4.872779   \n",
       "360133      C19H8N6S3  416.5122  0.000000  0.000000    0.000000     -5.643738   \n",
       "1709897      C29H18N2  394.4752  1.327089  0.766442   26.648226     -5.366442   \n",
       "1359587   C24H14OS2Si  410.5916  5.416927  0.601450  138.612129     -5.201450   \n",
       "\n",
       "         e_gap_alpha  e_lumo_alpha  \\\n",
       "1127317     2.202482     -3.130265   \n",
       "2030049     1.948411     -2.924368   \n",
       "360133      1.642855     -4.000884   \n",
       "1709897     2.693662     -2.672780   \n",
       "1359587     1.743136     -3.458314   \n",
       "\n",
       "                                            tmp_smiles_str  \n",
       "1127317  c1cc2c3cocc3c3c4oc(cc4cnc3c2[se]1)-c1scc2[se]c...  \n",
       "2030049  c1sc(-c2cc3oc4c(sc5ccc6c[nH]cc6c45)c3c3cscc23)...  \n",
       "360133    [nH]1c(cc2c3nsnc3c3c4sccc4ccc3c12)-c1nccc2nsnc12  \n",
       "1709897  c1ccc2c(ccc3c4ncc(cc4c4c[nH]cc4c23)-c2cccc3ccc...  \n",
       "1359587  c1ccc(-c2cc3ccc4c(sc5ccc6=C[SiH2]C=c6c45)c3o2)...  "
      ]
     },
     "execution_count": 2,
     "metadata": {},
     "output_type": "execute_result"
    }
   ],
   "source": [
    "import pandas as pd\n",
    "# read dataset as a dataframe\n",
    "dataset = pd.read_csv(\"moldata.csv\")    # HCEP dataset\n",
    "\n",
    "# print column names in dataset\n",
    "print(f\"Columns in dataset: {list(dataset.columns)}\")\n",
    "\n",
    "# print number of rows in dataset\n",
    "print(f\"\\nLength of dataset: {len(dataset)}\")\n",
    "\n",
    "# shuffle rows of the dataset (we could do this later as well when doing train/test splits)\n",
    "dataset = dataset.sample(frac=1, random_state=42)\n",
    "\n",
    "# show first 5 rows of dataframe\n",
    "dataset.head()"
   ]
  },
  {
   "cell_type": "code",
   "execution_count": 3,
   "metadata": {},
   "outputs": [],
   "source": [
    "import plotly.express as px"
   ]
  },
  {
   "cell_type": "code",
   "execution_count": 4,
   "metadata": {},
   "outputs": [
    {
     "name": "stderr",
     "output_type": "stream",
     "text": [
      "C:\\Users\\prate\\AppData\\Roaming\\Python\\Python37\\site-packages\\seaborn\\distributions.py:2551: FutureWarning: `distplot` is a deprecated function and will be removed in a future version. Please adapt your code to use either `displot` (a figure-level function with similar flexibility) or `histplot` (an axes-level function for histograms).\n",
      "  warnings.warn(msg, FutureWarning)\n"
     ]
    },
    {
     "data": {
      "text/plain": [
       "<AxesSubplot:xlabel='pce', ylabel='Density'>"
      ]
     },
     "execution_count": 4,
     "metadata": {},
     "output_type": "execute_result"
    },
    {
     "data": {
      "image/png": "[encoded data removed]",
      "text/plain": [
       "<Figure size 432x288 with 1 Axes>"
      ]
     },
     "metadata": {
      "needs_background": "light"
     },
     "output_type": "display_data"
    }
   ],
   "source": [
    "import seaborn as sns\n",
    "sns.distplot(dataset[\"pce\"])"
   ]
  },
  {
   "cell_type": "code",
   "execution_count": 5,
   "metadata": {},
   "outputs": [],
   "source": [
    "dataset=dataset.head(100000)"
   ]
  },
  {
   "cell_type": "code",
   "execution_count": 6,
   "metadata": {},
   "outputs": [],
   "source": [
    "# defining functions that will help in creating heatmaps\n",
    "\n",
    "\n",
    "from typing import List, Optional\n",
    "import numpy as np\n",
    "\n",
    "def generate_charset(full_char_list:list) -> list:\n",
    "    '''\n",
    "    Assumes full_char_list is a list of characters (e.g., ['c', 'c', '1']).\n",
    "    Returns a sorted list of unique characters, with index zero as a NULL character, and a PAD character.\n",
    "    '''\n",
    "    unique_chars = set(''.join(full_char_list))\n",
    "    charset = ['NULL', 'PAD'] + sorted(unique_chars)\n",
    "    return charset\n",
    "\n",
    "def smiles_to_onehots(smiles_strings:list,\n",
    "                     unique_charset:list,\n",
    "                     max_smiles_chars:int) -> np.array:\n",
    "    one_hots = []\n",
    "    charset_length = len(unique_charset)\n",
    "\n",
    "    for smiles_string in smiles_strings:\n",
    "        one_hot_smiles = np.zeros(shape=(max_smiles_chars, charset_length))\n",
    "        for i in range(max_smiles_chars):\n",
    "            one_hot_col = [0]*charset_length\n",
    "            ind = None # Which index will we flip to be \"one-hot\"?\n",
    "            \n",
    "            if i < len(smiles_string):\n",
    "                try:\n",
    "                    ind = unique_charset.index(smiles_string[i])\n",
    "                    # one_hot_col[unique_charset.index(char)] = 1\n",
    "                except ValueError:\n",
    "                    ind = 0 # Treat as NULL if out-of-vocab  \n",
    "                    # one_hot_col[0] = 1 # Treat as NULL if out-of-vocab   \n",
    "            else:\n",
    "                ind = 1 # Add PAD as needed\n",
    "            \n",
    "            one_hot_col[ind] = 1\n",
    "            one_hot_smiles[i,:] = one_hot_col\n",
    "            \n",
    "        one_hots.append(one_hot_smiles)\n",
    "    return np.array(one_hots)"
   ]
  },
  {
   "cell_type": "code",
   "execution_count": 7,
   "metadata": {
    "scrolled": false
   },
   "outputs": [
    {
     "name": "stderr",
     "output_type": "stream",
     "text": [
      "C:\\Users\\prate\\AppData\\Roaming\\Python\\Python37\\site-packages\\seaborn\\distributions.py:2551: FutureWarning: `distplot` is a deprecated function and will be removed in a future version. Please adapt your code to use either `displot` (a figure-level function with similar flexibility) or `histplot` (an axes-level function for histograms).\n",
      "  warnings.warn(msg, FutureWarning)\n"
     ]
    },
    {
     "data": {
      "text/plain": [
       "<AxesSubplot:xlabel='pce', ylabel='Density'>"
      ]
     },
     "execution_count": 7,
     "metadata": {},
     "output_type": "execute_result"
    },
    {
     "data": {
      "image/png": "[encoded data removed]",
      "text/plain": [
       "<Figure size 432x288 with 1 Axes>"
      ]
     },
     "metadata": {
      "needs_background": "light"
     },
     "output_type": "display_data"
    }
   ],
   "source": [
    "import seaborn as sns\n",
    "sns.distplot(dataset[\"pce\"])"
   ]
  },
  {
   "cell_type": "code",
   "execution_count": 8,
   "metadata": {},
   "outputs": [
    {
     "data": {
      "text/html": [
       "<div>\n",
       "<style scoped>\n",
       "    .dataframe tbody tr th:only-of-type {\n",
       "        vertical-align: middle;\n",
       "    }\n",
       "\n",
       "    .dataframe tbody tr th {\n",
       "        vertical-align: top;\n",
       "    }\n",
       "\n",
       "    .dataframe thead th {\n",
       "        text-align: right;\n",
       "    }\n",
       "</style>\n",
       "<table border=\"1\" class=\"dataframe\">\n",
       "  <thead>\n",
       "    <tr style=\"text-align: right;\">\n",
       "      <th></th>\n",
       "      <th>id</th>\n",
       "      <th>SMILES_str</th>\n",
       "      <th>stoich_str</th>\n",
       "      <th>mass</th>\n",
       "      <th>pce</th>\n",
       "      <th>voc</th>\n",
       "      <th>jsc</th>\n",
       "      <th>e_homo_alpha</th>\n",
       "      <th>e_gap_alpha</th>\n",
       "      <th>e_lumo_alpha</th>\n",
       "      <th>tmp_smiles_str</th>\n",
       "    </tr>\n",
       "  </thead>\n",
       "  <tbody>\n",
       "    <tr>\n",
       "      <th>1127317</th>\n",
       "      <td>495233</td>\n",
       "      <td>c1cc2c(scc2[se]1)-c1cc2cnc3c4[se]ccc4c4cocc4c3...</td>\n",
       "      <td>C21H9NO2SSe2</td>\n",
       "      <td>497.2931</td>\n",
       "      <td>3.274334</td>\n",
       "      <td>0.732747</td>\n",
       "      <td>68.772742</td>\n",
       "      <td>-5.332747</td>\n",
       "      <td>2.202482</td>\n",
       "      <td>-3.130265</td>\n",
       "      <td>c1cc2c3cocc3c3c4oc(cc4cnc3c2[se]1)-c1scc2[se]c...</td>\n",
       "    </tr>\n",
       "    <tr>\n",
       "      <th>2030049</th>\n",
       "      <td>29696</td>\n",
       "      <td>c1cc2csc(-c3cc4oc5c(sc6ccc7c[nH]cc7c56)c4c4csc...</td>\n",
       "      <td>C24H11NOS4</td>\n",
       "      <td>457.6209</td>\n",
       "      <td>1.821964</td>\n",
       "      <td>0.272779</td>\n",
       "      <td>102.796143</td>\n",
       "      <td>-4.872779</td>\n",
       "      <td>1.948411</td>\n",
       "      <td>-2.924368</td>\n",
       "      <td>c1sc(-c2cc3oc4c(sc5ccc6c[nH]cc6c45)c3c3cscc23)...</td>\n",
       "    </tr>\n",
       "    <tr>\n",
       "      <th>1709897</th>\n",
       "      <td>2692193</td>\n",
       "      <td>c1[nH]cc2c1c1cc(cnc1c1ccc3ccccc3c21)-c1cccc2cc...</td>\n",
       "      <td>C29H18N2</td>\n",
       "      <td>394.4752</td>\n",
       "      <td>1.327089</td>\n",
       "      <td>0.766442</td>\n",
       "      <td>26.648226</td>\n",
       "      <td>-5.366442</td>\n",
       "      <td>2.693662</td>\n",
       "      <td>-2.672780</td>\n",
       "      <td>c1ccc2c(ccc3c4ncc(cc4c4c[nH]cc4c23)-c2cccc3ccc...</td>\n",
       "    </tr>\n",
       "    <tr>\n",
       "      <th>1359587</th>\n",
       "      <td>596643</td>\n",
       "      <td>[SiH2]1C=c2ccc3sc4c(ccc5cc(oc45)-c4cccc5cscc45...</td>\n",
       "      <td>C24H14OS2Si</td>\n",
       "      <td>410.5916</td>\n",
       "      <td>5.416927</td>\n",
       "      <td>0.601450</td>\n",
       "      <td>138.612129</td>\n",
       "      <td>-5.201450</td>\n",
       "      <td>1.743136</td>\n",
       "      <td>-3.458314</td>\n",
       "      <td>c1ccc(-c2cc3ccc4c(sc5ccc6=C[SiH2]C=c6c45)c3o2)...</td>\n",
       "    </tr>\n",
       "    <tr>\n",
       "      <th>776849</th>\n",
       "      <td>1760329</td>\n",
       "      <td>C1C=c2c(cc3c4cscc4c4c5[nH]ccc5ccc4c3c2=C1)-c1s...</td>\n",
       "      <td>C28H17NS2</td>\n",
       "      <td>431.5813</td>\n",
       "      <td>2.637814</td>\n",
       "      <td>0.312276</td>\n",
       "      <td>130.002865</td>\n",
       "      <td>-4.912276</td>\n",
       "      <td>1.788686</td>\n",
       "      <td>-3.123591</td>\n",
       "      <td>[nH]1ccc2ccc3c(c4cscc4c4cc(-c5scc6C=CCc56)c5=C...</td>\n",
       "    </tr>\n",
       "    <tr>\n",
       "      <th>...</th>\n",
       "      <td>...</td>\n",
       "      <td>...</td>\n",
       "      <td>...</td>\n",
       "      <td>...</td>\n",
       "      <td>...</td>\n",
       "      <td>...</td>\n",
       "      <td>...</td>\n",
       "      <td>...</td>\n",
       "      <td>...</td>\n",
       "      <td>...</td>\n",
       "      <td>...</td>\n",
       "    </tr>\n",
       "    <tr>\n",
       "      <th>1631170</th>\n",
       "      <td>1565607</td>\n",
       "      <td>[SiH2]1C=c2c3ccoc3c3ccc4C=C([SiH2]c4c3c2=C1)c1...</td>\n",
       "      <td>C20H14O2Si2</td>\n",
       "      <td>342.5006</td>\n",
       "      <td>4.167014</td>\n",
       "      <td>0.635695</td>\n",
       "      <td>100.884304</td>\n",
       "      <td>-5.235695</td>\n",
       "      <td>1.961353</td>\n",
       "      <td>-3.274342</td>\n",
       "      <td>c1ccc(o1)C1=Cc2ccc3c4occc4c4=C[SiH2]C=c4c3c2[S...</td>\n",
       "    </tr>\n",
       "    <tr>\n",
       "      <th>964731</th>\n",
       "      <td>1391068</td>\n",
       "      <td>[SiH2]1cccc1-c1ccc(cc1)-c1sc(-c2ncncn2)c2cc[Si...</td>\n",
       "      <td>C19H15N3SSi2</td>\n",
       "      <td>373.5865</td>\n",
       "      <td>4.760182</td>\n",
       "      <td>1.146798</td>\n",
       "      <td>63.882863</td>\n",
       "      <td>-5.746798</td>\n",
       "      <td>2.248805</td>\n",
       "      <td>-3.497992</td>\n",
       "      <td>c1[SiH2]c(cc1)-c1ccc(cc1)-c1sc(-c2ncncn2)c2cc[...</td>\n",
       "    </tr>\n",
       "    <tr>\n",
       "      <th>1053984</th>\n",
       "      <td>862706</td>\n",
       "      <td>c1cc2c3c[nH]cc3c(cc2[se]1)-c1ccc2ccc3cocc3c2c1</td>\n",
       "      <td>C22H13NOSe</td>\n",
       "      <td>386.3107</td>\n",
       "      <td>1.220214</td>\n",
       "      <td>0.447512</td>\n",
       "      <td>41.964154</td>\n",
       "      <td>-5.047512</td>\n",
       "      <td>2.481885</td>\n",
       "      <td>-2.565628</td>\n",
       "      <td>c1cc2c(cc(-c3ccc4ccc5cocc5c4c3)c3c[nH]cc23)[se]1</td>\n",
       "    </tr>\n",
       "    <tr>\n",
       "      <th>1008926</th>\n",
       "      <td>28682</td>\n",
       "      <td>[SiH2]1C=c2ccc3oc(cc3c2=C1)-c1cc2c(ccc3c[nH]cc...</td>\n",
       "      <td>C20H13NOSeSi</td>\n",
       "      <td>390.3747</td>\n",
       "      <td>3.222577</td>\n",
       "      <td>0.292767</td>\n",
       "      <td>169.405706</td>\n",
       "      <td>-4.892767</td>\n",
       "      <td>1.585260</td>\n",
       "      <td>-3.307508</td>\n",
       "      <td>c1cc2[se]c(cc2c2c[nH]cc12)-c1cc2c(ccc3=C[SiH2]...</td>\n",
       "    </tr>\n",
       "    <tr>\n",
       "      <th>1459152</th>\n",
       "      <td>2363902</td>\n",
       "      <td>c1c[se]c(c1)-c1sc(-c2sc(-c3nccc4nsnc34)c3[nH]c...</td>\n",
       "      <td>C21H10N4OS3Se</td>\n",
       "      <td>509.4950</td>\n",
       "      <td>5.696778</td>\n",
       "      <td>0.291388</td>\n",
       "      <td>300.888023</td>\n",
       "      <td>-4.891388</td>\n",
       "      <td>1.037257</td>\n",
       "      <td>-3.854131</td>\n",
       "      <td>c1ccc([se]1)-c1sc(-c2sc(-c3nccc4nsnc34)c3[nH]c...</td>\n",
       "    </tr>\n",
       "  </tbody>\n",
       "</table>\n",
       "<p>95126 rows × 11 columns</p>\n",
       "</div>"
      ],
      "text/plain": [
       "              id                                         SMILES_str  \\\n",
       "1127317   495233  c1cc2c(scc2[se]1)-c1cc2cnc3c4[se]ccc4c4cocc4c3...   \n",
       "2030049    29696  c1cc2csc(-c3cc4oc5c(sc6ccc7c[nH]cc7c56)c4c4csc...   \n",
       "1709897  2692193  c1[nH]cc2c1c1cc(cnc1c1ccc3ccccc3c21)-c1cccc2cc...   \n",
       "1359587   596643  [SiH2]1C=c2ccc3sc4c(ccc5cc(oc45)-c4cccc5cscc45...   \n",
       "776849   1760329  C1C=c2c(cc3c4cscc4c4c5[nH]ccc5ccc4c3c2=C1)-c1s...   \n",
       "...          ...                                                ...   \n",
       "1631170  1565607  [SiH2]1C=c2c3ccoc3c3ccc4C=C([SiH2]c4c3c2=C1)c1...   \n",
       "964731   1391068  [SiH2]1cccc1-c1ccc(cc1)-c1sc(-c2ncncn2)c2cc[Si...   \n",
       "1053984   862706     c1cc2c3c[nH]cc3c(cc2[se]1)-c1ccc2ccc3cocc3c2c1   \n",
       "1008926    28682  [SiH2]1C=c2ccc3oc(cc3c2=C1)-c1cc2c(ccc3c[nH]cc...   \n",
       "1459152  2363902  c1c[se]c(c1)-c1sc(-c2sc(-c3nccc4nsnc34)c3[nH]c...   \n",
       "\n",
       "            stoich_str      mass       pce       voc         jsc  \\\n",
       "1127317   C21H9NO2SSe2  497.2931  3.274334  0.732747   68.772742   \n",
       "2030049     C24H11NOS4  457.6209  1.821964  0.272779  102.796143   \n",
       "1709897       C29H18N2  394.4752  1.327089  0.766442   26.648226   \n",
       "1359587    C24H14OS2Si  410.5916  5.416927  0.601450  138.612129   \n",
       "776849       C28H17NS2  431.5813  2.637814  0.312276  130.002865   \n",
       "...                ...       ...       ...       ...         ...   \n",
       "1631170    C20H14O2Si2  342.5006  4.167014  0.635695  100.884304   \n",
       "964731    C19H15N3SSi2  373.5865  4.760182  1.146798   63.882863   \n",
       "1053984     C22H13NOSe  386.3107  1.220214  0.447512   41.964154   \n",
       "1008926   C20H13NOSeSi  390.3747  3.222577  0.292767  169.405706   \n",
       "1459152  C21H10N4OS3Se  509.4950  5.696778  0.291388  300.888023   \n",
       "\n",
       "         e_homo_alpha  e_gap_alpha  e_lumo_alpha  \\\n",
       "1127317     -5.332747     2.202482     -3.130265   \n",
       "2030049     -4.872779     1.948411     -2.924368   \n",
       "1709897     -5.366442     2.693662     -2.672780   \n",
       "1359587     -5.201450     1.743136     -3.458314   \n",
       "776849      -4.912276     1.788686     -3.123591   \n",
       "...               ...          ...           ...   \n",
       "1631170     -5.235695     1.961353     -3.274342   \n",
       "964731      -5.746798     2.248805     -3.497992   \n",
       "1053984     -5.047512     2.481885     -2.565628   \n",
       "1008926     -4.892767     1.585260     -3.307508   \n",
       "1459152     -4.891388     1.037257     -3.854131   \n",
       "\n",
       "                                            tmp_smiles_str  \n",
       "1127317  c1cc2c3cocc3c3c4oc(cc4cnc3c2[se]1)-c1scc2[se]c...  \n",
       "2030049  c1sc(-c2cc3oc4c(sc5ccc6c[nH]cc6c45)c3c3cscc23)...  \n",
       "1709897  c1ccc2c(ccc3c4ncc(cc4c4c[nH]cc4c23)-c2cccc3ccc...  \n",
       "1359587  c1ccc(-c2cc3ccc4c(sc5ccc6=C[SiH2]C=c6c45)c3o2)...  \n",
       "776849   [nH]1ccc2ccc3c(c4cscc4c4cc(-c5scc6C=CCc56)c5=C...  \n",
       "...                                                    ...  \n",
       "1631170  c1ccc(o1)C1=Cc2ccc3c4occc4c4=C[SiH2]C=c4c3c2[S...  \n",
       "964731   c1[SiH2]c(cc1)-c1ccc(cc1)-c1sc(-c2ncncn2)c2cc[...  \n",
       "1053984   c1cc2c(cc(-c3ccc4ccc5cocc5c4c3)c3c[nH]cc23)[se]1  \n",
       "1008926  c1cc2[se]c(cc2c2c[nH]cc12)-c1cc2c(ccc3=C[SiH2]...  \n",
       "1459152  c1ccc([se]1)-c1sc(-c2sc(-c3nccc4nsnc34)c3[nH]c...  \n",
       "\n",
       "[95126 rows x 11 columns]"
      ]
     },
     "execution_count": 8,
     "metadata": {},
     "output_type": "execute_result"
    }
   ],
   "source": [
    "dataset = dataset[(dataset[['pce']] != 0).all(axis=1)]\n",
    "dataset"
   ]
  },
  {
   "cell_type": "code",
   "execution_count": 9,
   "metadata": {},
   "outputs": [
    {
     "name": "stderr",
     "output_type": "stream",
     "text": [
      "C:\\Users\\prate\\AppData\\Roaming\\Python\\Python37\\site-packages\\seaborn\\distributions.py:2551: FutureWarning: `distplot` is a deprecated function and will be removed in a future version. Please adapt your code to use either `displot` (a figure-level function with similar flexibility) or `histplot` (an axes-level function for histograms).\n",
      "  warnings.warn(msg, FutureWarning)\n"
     ]
    },
    {
     "data": {
      "text/plain": [
       "<AxesSubplot:xlabel='pce', ylabel='Density'>"
      ]
     },
     "execution_count": 9,
     "metadata": {},
     "output_type": "execute_result"
    },
    {
     "data": {
      "image/png": "[encoded data removed]",
      "text/plain": [
       "<Figure size 432x288 with 1 Axes>"
      ]
     },
     "metadata": {
      "needs_background": "light"
     },
     "output_type": "display_data"
    }
   ],
   "source": [
    "import seaborn as sns\n",
    "sns.distplot(dataset[\"pce\"])"
   ]
  },
  {
   "cell_type": "code",
   "execution_count": 10,
   "metadata": {},
   "outputs": [
    {
     "name": "stderr",
     "output_type": "stream",
     "text": [
      "C:\\Users\\prate\\AppData\\Roaming\\Python\\Python37\\site-packages\\seaborn\\distributions.py:2551: FutureWarning: `distplot` is a deprecated function and will be removed in a future version. Please adapt your code to use either `displot` (a figure-level function with similar flexibility) or `histplot` (an axes-level function for histograms).\n",
      "  warnings.warn(msg, FutureWarning)\n"
     ]
    },
    {
     "data": {
      "text/plain": [
       "<AxesSubplot:>"
      ]
     },
     "execution_count": 10,
     "metadata": {},
     "output_type": "execute_result"
    },
    {
     "data": {
      "image/png": "[encoded data removed]",
      "text/plain": [
       "<Figure size 432x288 with 1 Axes>"
      ]
     },
     "metadata": {
      "needs_background": "light"
     },
     "output_type": "display_data"
    }
   ],
   "source": [
    "smiles_lengths = map(len, dataset.SMILES_str.values)\n",
    "sns.distplot(list(smiles_lengths), bins=20, kde=False)"
   ]
  },
  {
   "cell_type": "code",
   "execution_count": 11,
   "metadata": {},
   "outputs": [],
   "source": [
    "# get unique character set in all SMILES strings \n",
    "charset = generate_charset(\n",
    "    dataset[\"SMILES_str\"].values.ravel()\n",
    ")\n",
    "\n",
    "# get the number of unique characters\n",
    "charset_length = len(charset)\n",
    "\n",
    "# define max number of SMILES for model input vector\n",
    "max_smiles_chars = 70\n",
    "\n",
    "# dimension of input vector\n",
    "input_dim = charset_length * max_smiles_chars\n",
    "\n",
    "# get one-hot representation of the SMILES strings \n",
    "one_hots = smiles_to_onehots(dataset[\"SMILES_str\"].values, charset, max_smiles_chars)\n",
    "\n",
    "# # split input into train and test sets\n",
    "# X_train = one_hots[:-100]\n",
    "# X_test = one_hots[-100:]\n",
    "\n",
    "# # split output to train and test sets\n",
    "output = dataset[\"pce\"].values\n",
    "# Y_train = output[:-100]\n",
    "# Y_test = output[-100:]\n",
    "X = one_hots\n",
    "Y = output"
   ]
  },
  {
   "cell_type": "code",
   "execution_count": 12,
   "metadata": {},
   "outputs": [
    {
     "data": {
      "text/plain": [
       "24"
      ]
     },
     "execution_count": 12,
     "metadata": {},
     "output_type": "execute_result"
    }
   ],
   "source": [
    "charset_length"
   ]
  },
  {
   "cell_type": "code",
   "execution_count": 13,
   "metadata": {
    "scrolled": true
   },
   "outputs": [
    {
     "data": {
      "text/plain": [
       "(95126, 70, 24)"
      ]
     },
     "execution_count": 13,
     "metadata": {},
     "output_type": "execute_result"
    }
   ],
   "source": [
    "X.shape"
   ]
  },
  {
   "cell_type": "code",
   "execution_count": 14,
   "metadata": {},
   "outputs": [
    {
     "name": "stdout",
     "output_type": "stream",
     "text": [
      "c1cc2c(scc2o1)-c1cc2[se]c3c(sc4ccc5ccccc5c34)c2cn1\n"
     ]
    },
    {
     "data": {
      "image/png": "[encoded data removed]",
      "text/plain": [
       "<Figure size 432x288 with 2 Axes>"
      ]
     },
     "metadata": {
      "needs_background": "light"
     },
     "output_type": "display_data"
    }
   ],
   "source": [
    "import matplotlib.pyplot as plt\n",
    "index = 28\n",
    "sns.heatmap(X[index]) # This is a single training example -- note that it is a matrix, not a single vector!\n",
    "plt.xlabel('Character')\n",
    "plt.ylabel('Position in SMILES String')\n",
    "print(dataset.iloc[index]['SMILES_str'])"
   ]
  },
  {
   "cell_type": "code",
   "execution_count": 15,
   "metadata": {},
   "outputs": [
    {
     "name": "stdout",
     "output_type": "stream",
     "text": [
      "Smiles string: [SiH2]1C=c2c3c4cnc(cc4sc3c3cnccc3c2=C1)-c1ccccn1\n",
      "PCE: 6.33114890929543\n",
      "Bandgap 2.09752820522264\n"
     ]
    },
    {
     "data": {
      "image/png": "[encoded data removed]",
      "text/plain": [
       "<rdkit.Chem.rdchem.Mol at 0x250e4105c10>"
      ]
     },
     "execution_count": 15,
     "metadata": {},
     "output_type": "execute_result"
    },
    {
     "data": {
      "image/png": "[encoded data removed]",
      "text/plain": [
       "<Figure size 432x288 with 2 Axes>"
      ]
     },
     "metadata": {
      "needs_background": "light"
     },
     "output_type": "display_data"
    }
   ],
   "source": [
    "from rdkit import Chem\n",
    "from rdkit.Chem import Draw\n",
    "from rdkit.Chem.Draw import IPythonConsole\n",
    "from rdkit.Chem import Descriptors\n",
    "from rdkit.Chem import AllChem\n",
    "from rdkit import DataStructs\n",
    "import matplotlib.pyplot as plt\n",
    "index = 29\n",
    "sns.heatmap(X[index],xticklabels=charset) # This is a single training example -- note that it is a matrix, not a single vector!\n",
    "plt.xlabel('Character')\n",
    "plt.ylabel('Position in SMILES String')\n",
    "print('Smiles string:',dataset.iloc[index]['SMILES_str'])\n",
    "print('PCE:',dataset.iloc[index]['pce'])\n",
    "print('Bandgap',dataset.iloc[index]['e_gap_alpha'])\n",
    "mol = Chem.MolFromSmiles(dataset.iloc[index]['SMILES_str'])\n",
    "mol"
   ]
  },
  {
   "cell_type": "code",
   "execution_count": 16,
   "metadata": {},
   "outputs": [],
   "source": [
    "X=X.reshape(95126,70,24,1)"
   ]
  },
  {
   "cell_type": "code",
   "execution_count": 17,
   "metadata": {},
   "outputs": [
    {
     "data": {
      "text/plain": [
       "['NULL',\n",
       " 'PAD',\n",
       " '(',\n",
       " ')',\n",
       " '-',\n",
       " '1',\n",
       " '2',\n",
       " '3',\n",
       " '4',\n",
       " '5',\n",
       " '6',\n",
       " '7',\n",
       " '=',\n",
       " 'C',\n",
       " 'H',\n",
       " 'S',\n",
       " '[',\n",
       " ']',\n",
       " 'c',\n",
       " 'e',\n",
       " 'i',\n",
       " 'n',\n",
       " 'o',\n",
       " 's']"
      ]
     },
     "execution_count": 17,
     "metadata": {},
     "output_type": "execute_result"
    }
   ],
   "source": [
    "charset"
   ]
  },
  {
   "cell_type": "code",
   "execution_count": 18,
   "metadata": {},
   "outputs": [],
   "source": [
    "# from keras.models import Sequential\n",
    "from sklearn.model_selection import train_test_split\n",
    "X_train, X_test, y_train, y_test = train_test_split(X, Y, test_size=0.1, random_state=10)"
   ]
  },
  {
   "cell_type": "code",
   "execution_count": 19,
   "metadata": {},
   "outputs": [],
   "source": [
    "from tensorflow.keras.layers import (Input, Dense, Conv1D, MaxPool1D, Dropout, GRU, LSTM, \n",
    "                          TimeDistributed, Add, Flatten, RepeatVector, Lambda, Concatenate)"
   ]
  },
  {
   "cell_type": "code",
   "execution_count": 20,
   "metadata": {},
   "outputs": [],
   "source": [
    "from tensorflow.keras import datasets, layers, models\n",
    "model = models.Sequential()\n",
    "model.add(layers.Conv2D(32, (5, 5), activation='relu',padding=\"SAME\",input_shape=(70, 24, 1)))\n",
    "model.add(layers.MaxPooling2D((2, 2)))\n",
    "model.add(Dropout(0.1))\n",
    "model.add(layers.Conv2D(64, (3, 3), activation='relu',padding=\"SAME\"))\n",
    "model.add(layers.MaxPooling2D((2, 2)))\n",
    "model.add(Dropout(0.1))\n",
    "\n",
    "\n"
   ]
  },
  {
   "cell_type": "code",
   "execution_count": 21,
   "metadata": {},
   "outputs": [],
   "source": [
    "model.add(layers.Flatten())\n",
    "model.add(layers.Dense(128, activation='relu'))\n",
    "model.add(Dropout(0.1))\n",
    "model.add(layers.Dense(64, activation='relu'))\n",
    "model.add(Dropout(0.1))\n",
    "model.add(layers.Dense(1))"
   ]
  },
  {
   "cell_type": "code",
   "execution_count": 22,
   "metadata": {},
   "outputs": [
    {
     "name": "stdout",
     "output_type": "stream",
     "text": [
      "Model: \"sequential\"\n",
      "_________________________________________________________________\n",
      "Layer (type)                 Output Shape              Param #   \n",
      "=================================================================\n",
      "conv2d (Conv2D)              (None, 70, 24, 32)        832       \n",
      "_________________________________________________________________\n",
      "max_pooling2d (MaxPooling2D) (None, 35, 12, 32)        0         \n",
      "_________________________________________________________________\n",
      "dropout (Dropout)            (None, 35, 12, 32)        0         \n",
      "_________________________________________________________________\n",
      "conv2d_1 (Conv2D)            (None, 35, 12, 64)        18496     \n",
      "_________________________________________________________________\n",
      "max_pooling2d_1 (MaxPooling2 (None, 17, 6, 64)         0         \n",
      "_________________________________________________________________\n",
      "dropout_1 (Dropout)          (None, 17, 6, 64)         0         \n",
      "_________________________________________________________________\n",
      "flatten (Flatten)            (None, 6528)              0         \n",
      "_________________________________________________________________\n",
      "dense (Dense)                (None, 128)               835712    \n",
      "_________________________________________________________________\n",
      "dropout_2 (Dropout)          (None, 128)               0         \n",
      "_________________________________________________________________\n",
      "dense_1 (Dense)              (None, 64)                8256      \n",
      "_________________________________________________________________\n",
      "dropout_3 (Dropout)          (None, 64)                0         \n",
      "_________________________________________________________________\n",
      "dense_2 (Dense)              (None, 1)                 65        \n",
      "=================================================================\n",
      "Total params: 863,361\n",
      "Trainable params: 863,361\n",
      "Non-trainable params: 0\n",
      "_________________________________________________________________\n"
     ]
    }
   ],
   "source": [
    "model.summary()"
   ]
  },
  {
   "cell_type": "code",
   "execution_count": 23,
   "metadata": {},
   "outputs": [
    {
     "name": "stdout",
     "output_type": "stream",
     "text": [
      "Epoch 1/20\n",
      "1204/1204 [==============================] - 19s 7ms/step - loss: 1.8715 - mae: 0.9929 - val_loss: 1.0539 - val_mae: 0.7687 1s\n",
      "Epoch 2/20\n",
      "1204/1204 [==============================] - 8s 7ms/step - loss: 0.9865 - mae: 0.7357 - val_loss: 0.8479 - val_mae: 0.6912 - loss:  - ETA: 5s - loss: 1.0434 - ETA: 0s - loss: 0.9944 - ma - ETA: 0s - loss: 0.9915 - m\n",
      "Epoch 3/20\n",
      "1204/1204 [==============================] - 8s 7ms/step - loss: 0.8812 - mae: 0.6937 - val_loss: 0.6721 - val_mae: 0.6054\n",
      "Epoch 4/20\n",
      "1204/1204 [==============================] - 8s 7ms/step - loss: 0.7919 - mae: 0.6549 - val_loss: 0.5833 - val_mae: 0.5603: 7s - loss: 0.8040  - ETA: 6s - loss: 0.8279 - mae: 0 - ET - ETA: 0s - loss: 0.7968 - mae\n",
      "Epoch 5/20\n",
      "1204/1204 [==============================] - 8s 7ms/step - loss: 0.6873 - mae: 0.6114 - val_loss: 0.4845 - val_mae: 0.5132 loss:  - ETA: 0s - loss: 0.6880 - mae: \n",
      "Epoch 6/20\n",
      "1204/1204 [==============================] - 8s 7ms/step - loss: 0.6176 - mae: 0.5810 - val_loss: 0.4681 - val_mae: 0.5016- loss: 0.6162 - mae: 0 - ETA: 0s - loss: 0.6171 - mae: 0.58 - ETA: 0s - loss: 0.6163 - mae: 0.580 - ETA: 0s - loss: 0.6158 - mae: 0\n",
      "Epoch 7/20\n",
      "1204/1204 [==============================] - 8s 7ms/step - loss: 0.5718 - mae: 0.5603 - val_loss: 0.4232 - val_mae: 0.4772\n",
      "Epoch 8/20\n",
      "1204/1204 [==============================] - 8s 7ms/step - loss: 0.5359 - mae: 0.5415 - val_loss: 0.3710 - val_mae: 0.4440\n",
      "Epoch 9/20\n",
      "1204/1204 [==============================] - 8s 7ms/step - loss: 0.5062 - mae: 0.5272 - val_loss: 0.3664 - val_mae: 0.4382\n",
      "Epoch 10/20\n",
      "1204/1204 [==============================] - 8s 7ms/step - loss: 0.4811 - mae: 0.5127 - val_loss: 0.3334 - val_mae: 0.4222s: 0.4804 - mae: 0.5\n",
      "Epoch 11/20\n",
      "1204/1204 [==============================] - 8s 7ms/step - loss: 0.4621 - mae: 0.5044 - val_loss: 0.3270 - val_mae: 0.4208A: 7s - loss: 0.4620 - mae: 0. - ETA: 6s - loss: 0.4569 - mae: 0. - ETA: 6s - loss: 0.4530 - mae: 0  - ETA: 4s - - ETA: 2s - loss: 0.4619 - mae: 0.50 - ETA: 2s - loss: 0.4615 - mae: 0.504 - ETA: 2s - loss: 0.4620 - mae: 0. - ETA: 2s - los - ETA: 1s - loss: 0.4637 - mae: 0.5 - ETA: 0s - loss: 0\n",
      "Epoch 12/20\n",
      "1204/1204 [==============================] - 8s 7ms/step - loss: 0.4403 - mae: 0.4916 - val_loss: 0.3335 - val_mae: 0.41372s - loss: 0.4418 - mae - ET - ETA: 0s - loss: 0.4406 - mae: 0\n",
      "Epoch 13/20\n",
      "1204/1204 [==============================] - 8s 7ms/step - loss: 0.4288 - mae: 0.4853 - val_loss: 0.2993 - val_mae: 0.3975s: 0.4207 -  - ETA: 5s - loss: 0.4219 - mae: 0.4 - ET - ETA: 1s - - ETA: 0s - loss: 0.4295 - mae:\n",
      "Epoch 14/20\n",
      "1204/1204 [==============================] - 8s 7ms/step - loss: 0.4188 - mae: 0.4789 - val_loss: 0.3029 - val_mae: 0.4007\n",
      "Epoch 15/20\n",
      "1204/1204 [==============================] - 9s 7ms/step - loss: 0.3989 - mae: 0.4682 - val_loss: 0.3119 - val_mae: 0.4036\n",
      "Epoch 16/20\n",
      "1204/1204 [==============================] - 8s 7ms/step - loss: 0.3914 - mae: 0.4638 - val_loss: 0.2826 - val_mae: 0.3839ss: 0.3866  - ETA: 2s - loss: 0.3880 - mae: - ETA: 2s - los - ETA: 0s - loss: 0.\n",
      "Epoch 17/20\n",
      "1204/1204 [==============================] - 8s 7ms/step - loss: 0.3748 - mae: 0.4544 - val_loss: 0.3931 - val_mae: 0.45220s - loss: 0.3746 - mae: \n",
      "Epoch 18/20\n",
      "1204/1204 [==============================] - 8s 7ms/step - loss: 0.3637 - mae: 0.4474 - val_loss: 0.3174 - val_mae: 0.4106\n",
      "Epoch 19/20\n",
      "1204/1204 [==============================] - 9s 7ms/step - loss: 0.3553 - mae: 0.4416 - val_loss: 0.2600 - val_mae: 0.3687: 6s - loss: 0.3 - ETA: 6s - loss: 0.3518 -  - ET\n",
      "Epoch 20/20\n",
      "1204/1204 [==============================] - 9s 7ms/step - loss: 0.3505 - mae: 0.4382 - val_loss: 0.2654 - val_mae: 0.3721 loss: 0.3510 - mae: 0.4\n"
     ]
    }
   ],
   "source": [
    "model.compile(optimizer='adam',loss=\"mse\",metrics='mae')\n",
    "Model_rms_1=model.fit(x=X_train,y=y_train,epochs=20,batch_size=64,validation_split=0.1)"
   ]
  },
  {
   "cell_type": "code",
   "execution_count": 24,
   "metadata": {},
   "outputs": [
    {
     "data": {
      "image/png": "[encoded data removed]",
      "text/plain": [
       "<Figure size 432x288 with 1 Axes>"
      ]
     },
     "metadata": {
      "needs_background": "light"
     },
     "output_type": "display_data"
    }
   ],
   "source": [
    "# plot the learning curve \n",
    "plt.plot(Model_rms_1.history['loss'])\n",
    "plt.plot(Model_rms_1.history['val_loss'])\n",
    "plt.title('Model accuracy')\n",
    "plt.ylabel('Error')\n",
    "plt.xlabel('Epoch')\n",
    "plt.xlim(0,)\n",
    "plt.legend(['Train', 'Validation',], loc='upper left')\n",
    "plt.show()"
   ]
  },
  {
   "cell_type": "code",
   "execution_count": 25,
   "metadata": {},
   "outputs": [
    {
     "data": {
      "text/plain": [
       "<matplotlib.legend.Legend at 0x251c8648d08>"
      ]
     },
     "execution_count": 25,
     "metadata": {},
     "output_type": "execute_result"
    },
    {
     "data": {
      "image/png": "[encoded data removed]",
      "text/plain": [
       "<Figure size 432x288 with 1 Axes>"
      ]
     },
     "metadata": {
      "needs_background": "light"
     },
     "output_type": "display_data"
    }
   ],
   "source": [
    "preds = model.predict(X_train)\n",
    "x_y_line = np.linspace(min(y_train.flatten()), max(y_train.flatten()), 500)\n",
    "plt.plot(y_train.flatten(), preds.flatten(), 'o', label='predictions')\n",
    "plt.plot(x_y_line, x_y_line, label='y=x')\n",
    "plt.xlabel(\"Voltage loss (ground truth)\")\n",
    "plt.ylabel(\"Voltage loss (predicted)\")\n",
    "plt.title(\"Parity plot: predictions vs ground truth data\")\n",
    "plt.legend()"
   ]
  },
  {
   "cell_type": "code",
   "execution_count": 26,
   "metadata": {},
   "outputs": [
    {
     "name": "stdout",
     "output_type": "stream",
     "text": [
      "R2Score 0.9681845589050727\n"
     ]
    }
   ],
   "source": [
    "from sklearn.metrics import r2_score\n",
    "from sklearn import metrics\n",
    "\n",
    "def R2Score(X,Y):\n",
    "    r2=metrics.r2_score(X,Y)\n",
    "    return r2\n",
    "\n",
    "print('R2Score',R2Score(y_train, preds))"
   ]
  },
  {
   "cell_type": "code",
   "execution_count": 27,
   "metadata": {},
   "outputs": [
    {
     "data": {
      "text/plain": [
       "<matplotlib.legend.Legend at 0x251d22c41c8>"
      ]
     },
     "execution_count": 27,
     "metadata": {},
     "output_type": "execute_result"
    },
    {
     "data": {
      "image/png": "[encoded data removed]",
      "text/plain": [
       "<Figure size 432x288 with 1 Axes>"
      ]
     },
     "metadata": {
      "needs_background": "light"
     },
     "output_type": "display_data"
    }
   ],
   "source": [
    "preds = model.predict(X_test)\n",
    "x_y_line = np.linspace(min(y_train.flatten()), max(y_train.flatten()), 500)\n",
    "plt.plot(y_test.flatten(), preds.flatten(), 'o', label='predictions')\n",
    "plt.plot(x_y_line, x_y_line, label='y=x')\n",
    "plt.xlabel(\"PCE (ground truth)\")\n",
    "plt.ylabel(\"PCE (predicted)\")\n",
    "plt.title(\"Parity plot: predictions vs ground truth data\")\n",
    "plt.legend()"
   ]
  },
  {
   "cell_type": "code",
   "execution_count": 28,
   "metadata": {},
   "outputs": [
    {
     "name": "stdout",
     "output_type": "stream",
     "text": [
      "R2Score 0.9533249072575847\n"
     ]
    }
   ],
   "source": [
    "from sklearn.metrics import r2_score\n",
    "from sklearn import metrics\n",
    "\n",
    "def R2Score(X,Y):\n",
    "    r2=metrics.r2_score(X,Y)\n",
    "    return r2\n",
    "\n",
    "print('R2Score',R2Score(y_test, preds))"
   ]
  },
  {
   "cell_type": "code",
   "execution_count": 30,
   "metadata": {},
   "outputs": [
    {
     "name": "stdout",
     "output_type": "stream",
     "text": [
      "Note: you may need to restart the kernel to use updated packages.\n"
     ]
    }
   ],
   "source": [
    "pip freeze > requirements.txt"
   ]
  },
  {
   "cell_type": "code",
   "execution_count": null,
   "metadata": {},
   "outputs": [],
   "source": []
  }
 ],
 "metadata": {
  "kernelspec": {
   "display_name": "Python 3 (ipykernel)",
   "language": "python",
   "name": "python3"
  },
  "language_info": {
   "codemirror_mode": {
    "name": "ipython",
    "version": 3
   },
   "file_extension": ".py",
   "mimetype": "text/x-python",
   "name": "python",
   "nbconvert_exporter": "python",
   "pygments_lexer": "ipython3",
   "version": "3.7.13"
  }
 },
 "nbformat": 4,
 "nbformat_minor": 2
}
