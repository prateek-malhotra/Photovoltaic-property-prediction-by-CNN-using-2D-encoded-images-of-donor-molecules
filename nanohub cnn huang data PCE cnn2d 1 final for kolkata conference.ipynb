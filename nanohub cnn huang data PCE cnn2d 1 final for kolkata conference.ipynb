{
 "cells": [
  {
   "cell_type": "markdown",
   "metadata": {},
   "source": [
    "# Hands-on Deep Learning for Organic solar cell\n",
    "\n",
    "## *Using deep learning to estimate Bandgap of organic polymer and PCE of organic solar cell*\n",
    "\n",
    "## Dataset:\n",
    "The Clean Energy Project is run by Professor Alán Aspuru-Guzik and his team from the Department of Chemistry and Chemical Biology at Harvard University. They are looking to identify suitable compounds for organic electronic applications and harvesting renewable energy from the sun.\n",
    "    The HCEP dataset contains properties for over 2.4 million compounds, derived from density functional theory calculations. Properties in this dataset include principle energy levels, photovoltaic performance parameters, mass and stoichiometric formulas\n",
    "\n",
    "The composition will be specified as SMILES strings, which are a convenient way to represent the structure of organic materials. You can learn more about SMILES strings [here](https://en.wikipedia.org/wiki/Simplified_molecular-input_line-entry_system). We will use these SMILES strings as inputs to a [convolutional neural network](https://en.wikipedia.org/wiki/Convolutional_neural_network) and predict the Bandgap/PCE of organic materials. We will also learn how to train [variational autoencoders](https://www.jeremyjordan.me/variational-autoencoders/) to learn SMILES string representations. Variational autoencoders are models used to learn low-dimensional representations of a high-dimensional dataset, and in our case these models will give us a low-dimensional numerical representation of a SMILES string, which can replace the sparse matrices often used to represent data when using convolutional neural networks.\n",
    "\n",
    "\n",
    "### Outline of this notebook:\n",
    "#### _Load and pre-process training data_ \n",
    "- Load HCEP dataset containing many organic molecules \n",
    "- Pre-process data and split to test/train sets\n",
    "\n",
    "#### _Train a Convolutional neural network (CNN)_ \n",
    "- Train a CNN to predict Bandgap/PCE\n",
    "- Predict Bandgap/PCE from any given SMILES representation of a molecule "
   ]
  },
  {
   "cell_type": "code",
   "execution_count": null,
   "metadata": {},
   "outputs": [],
   "source": [
    "# pip install --upgrade google-api-python-client"
   ]
  },
  {
   "cell_type": "code",
   "execution_count": 1,
   "metadata": {
    "scrolled": false
   },
   "outputs": [
    {
     "name": "stderr",
     "output_type": "stream",
     "text": [
      "C:\\Users\\prate\\anaconda3\\envs\\my-rdkit-env1\\lib\\site-packages\\numpy\\_distributor_init.py:32: UserWarning: loaded more than 1 DLL from .libs:\n",
      "C:\\Users\\prate\\anaconda3\\envs\\my-rdkit-env1\\lib\\site-packages\\numpy\\.libs\\libopenblas.WCDJNK7YVMPZQ2ME2ZZHJJRJ3JIKNDB7.gfortran-win_amd64.dll\n",
      "C:\\Users\\prate\\anaconda3\\envs\\my-rdkit-env1\\lib\\site-packages\\numpy\\.libs\\libopenblas.XWYDX2IKJW2NMTWSFYNGFUWKQU3LYTCZ.gfortran-win_amd64.dll\n",
      "  stacklevel=1)\n"
     ]
    }
   ],
   "source": [
    "import tensorflow as tf"
   ]
  },
  {
   "cell_type": "code",
   "execution_count": 2,
   "metadata": {
    "scrolled": false
   },
   "outputs": [
    {
     "name": "stdout",
     "output_type": "stream",
     "text": [
      "Columns in dataset: ['PCE_max', 'Voc ', 'Jsc ', 'FF', 'HOMO ', 'LUMO ', 'Bandgap', 'Eloss', 'Nickname', 'smiles']\n",
      "\n",
      "Length of dataset: 1203\n"
     ]
    },
    {
     "data": {
      "text/html": [
       "<div>\n",
       "<style scoped>\n",
       "    .dataframe tbody tr th:only-of-type {\n",
       "        vertical-align: middle;\n",
       "    }\n",
       "\n",
       "    .dataframe tbody tr th {\n",
       "        vertical-align: top;\n",
       "    }\n",
       "\n",
       "    .dataframe thead th {\n",
       "        text-align: right;\n",
       "    }\n",
       "</style>\n",
       "<table border=\"1\" class=\"dataframe\">\n",
       "  <thead>\n",
       "    <tr style=\"text-align: right;\">\n",
       "      <th></th>\n",
       "      <th>PCE_max</th>\n",
       "      <th>Voc</th>\n",
       "      <th>Jsc</th>\n",
       "      <th>FF</th>\n",
       "      <th>HOMO</th>\n",
       "      <th>LUMO</th>\n",
       "      <th>Bandgap</th>\n",
       "      <th>Eloss</th>\n",
       "      <th>Nickname</th>\n",
       "      <th>smiles</th>\n",
       "    </tr>\n",
       "  </thead>\n",
       "  <tbody>\n",
       "    <tr>\n",
       "      <th>1133</th>\n",
       "      <td>6.56</td>\n",
       "      <td>0.86</td>\n",
       "      <td>11.92</td>\n",
       "      <td>0.64</td>\n",
       "      <td>5.44</td>\n",
       "      <td>3.84</td>\n",
       "      <td>1.50</td>\n",
       "      <td>0.64</td>\n",
       "      <td>P1</td>\n",
       "      <td>CCCCCCCCCCC(CCCCCCCC)CN1C(=O)c2nc3c(nc2C1=O)c1...</td>\n",
       "    </tr>\n",
       "    <tr>\n",
       "      <th>425</th>\n",
       "      <td>3.64</td>\n",
       "      <td>0.87</td>\n",
       "      <td>7.62</td>\n",
       "      <td>0.55</td>\n",
       "      <td>5.33</td>\n",
       "      <td>2.72</td>\n",
       "      <td>1.85</td>\n",
       "      <td>0.98</td>\n",
       "      <td>PSB-TPTI (P3)</td>\n",
       "      <td>CCCCCCCCC(CCCCCC)Cn1c(=O)c2cc3c(cc2c2sc(C)cc21...</td>\n",
       "    </tr>\n",
       "    <tr>\n",
       "      <th>78</th>\n",
       "      <td>0.36</td>\n",
       "      <td>0.37</td>\n",
       "      <td>2.46</td>\n",
       "      <td>0.40</td>\n",
       "      <td>4.56</td>\n",
       "      <td>2.59</td>\n",
       "      <td>1.97</td>\n",
       "      <td>1.60</td>\n",
       "      <td>H8</td>\n",
       "      <td>CCCCCCCCCCCCOc1c2cc(-c3sc(C)c4c3OCCO4)sc2c(OCC...</td>\n",
       "    </tr>\n",
       "    <tr>\n",
       "      <th>803</th>\n",
       "      <td>3.78</td>\n",
       "      <td>0.80</td>\n",
       "      <td>8.80</td>\n",
       "      <td>0.52</td>\n",
       "      <td>5.25</td>\n",
       "      <td>3.55</td>\n",
       "      <td>1.70</td>\n",
       "      <td>0.90</td>\n",
       "      <td>PBSTDTBT</td>\n",
       "      <td>CCCCCCCC[Si]1(CCCCCCCC)c2cc3c(cc2-c2sc(C)cc21)...</td>\n",
       "    </tr>\n",
       "    <tr>\n",
       "      <th>590</th>\n",
       "      <td>1.13</td>\n",
       "      <td>0.62</td>\n",
       "      <td>3.39</td>\n",
       "      <td>0.53</td>\n",
       "      <td>5.25</td>\n",
       "      <td>2.75</td>\n",
       "      <td>2.18</td>\n",
       "      <td>1.56</td>\n",
       "      <td>PBTCT</td>\n",
       "      <td>CCCCC(CC)COc1c2cc(-c3sc(C)c4c3CC(C(=O)OCC)(C(=...</td>\n",
       "    </tr>\n",
       "    <tr>\n",
       "      <th>908</th>\n",
       "      <td>0.31</td>\n",
       "      <td>0.70</td>\n",
       "      <td>1.17</td>\n",
       "      <td>0.38</td>\n",
       "      <td>5.17</td>\n",
       "      <td>3.83</td>\n",
       "      <td>1.34</td>\n",
       "      <td>0.64</td>\n",
       "      <td>CPDT-co-FATCN</td>\n",
       "      <td>CCCCCCC1(CCCCCC)c2cc(C)ccc2-c2ccc(N(c3ccc(/C=C...</td>\n",
       "    </tr>\n",
       "    <tr>\n",
       "      <th>881</th>\n",
       "      <td>2.80</td>\n",
       "      <td>0.54</td>\n",
       "      <td>11.90</td>\n",
       "      <td>0.44</td>\n",
       "      <td>4.81</td>\n",
       "      <td>3.08</td>\n",
       "      <td>1.43</td>\n",
       "      <td>0.89</td>\n",
       "      <td>PDTPBT-C5</td>\n",
       "      <td>CCCCCC(CCCCC)n1c2cc(C)sc2c2sc(-c3ccc(C)c4nsnc3...</td>\n",
       "    </tr>\n",
       "    <tr>\n",
       "      <th>543</th>\n",
       "      <td>2.40</td>\n",
       "      <td>0.66</td>\n",
       "      <td>8.30</td>\n",
       "      <td>0.44</td>\n",
       "      <td>5.29</td>\n",
       "      <td>3.73</td>\n",
       "      <td>1.56</td>\n",
       "      <td>0.90</td>\n",
       "      <td>PBDTSSBS</td>\n",
       "      <td>CCCCCCCCOc1c(OCCCCCCCC)c(-c2ccc(-c3cc4c(-c5ccc...</td>\n",
       "    </tr>\n",
       "    <tr>\n",
       "      <th>1195</th>\n",
       "      <td>2.22</td>\n",
       "      <td>0.54</td>\n",
       "      <td>8.00</td>\n",
       "      <td>0.51</td>\n",
       "      <td>5.11</td>\n",
       "      <td>3.69</td>\n",
       "      <td>1.42</td>\n",
       "      <td>0.88</td>\n",
       "      <td>PDTTDPP-EH</td>\n",
       "      <td>CCCCCCCCCCCCc1cc(C)sc1-c1cc2sc3cc(-c4sc(-c5ccc...</td>\n",
       "    </tr>\n",
       "    <tr>\n",
       "      <th>930</th>\n",
       "      <td>0.45</td>\n",
       "      <td>0.83</td>\n",
       "      <td>1.81</td>\n",
       "      <td>0.30</td>\n",
       "      <td>5.40</td>\n",
       "      <td>3.50</td>\n",
       "      <td>1.86</td>\n",
       "      <td>1.03</td>\n",
       "      <td>BDT-C6</td>\n",
       "      <td>CCCCCCc1cc2c(cc1CCCCCC)C(=O)c1c(-c3cc4c(OCC(CC...</td>\n",
       "    </tr>\n",
       "  </tbody>\n",
       "</table>\n",
       "</div>"
      ],
      "text/plain": [
       "      PCE_max  Voc    Jsc     FF  HOMO   LUMO   Bandgap  Eloss       Nickname  \\\n",
       "1133     6.56  0.86  11.92  0.64   5.44   3.84     1.50   0.64             P1   \n",
       "425      3.64  0.87   7.62  0.55   5.33   2.72     1.85   0.98  PSB-TPTI (P3)   \n",
       "78       0.36  0.37   2.46  0.40   4.56   2.59     1.97   1.60             H8   \n",
       "803      3.78  0.80   8.80  0.52   5.25   3.55     1.70   0.90       PBSTDTBT   \n",
       "590      1.13  0.62   3.39  0.53   5.25   2.75     2.18   1.56          PBTCT   \n",
       "908      0.31  0.70   1.17  0.38   5.17   3.83     1.34   0.64  CPDT-co-FATCN   \n",
       "881      2.80  0.54  11.90  0.44   4.81   3.08     1.43   0.89      PDTPBT-C5   \n",
       "543      2.40  0.66   8.30  0.44   5.29   3.73     1.56   0.90       PBDTSSBS   \n",
       "1195     2.22  0.54   8.00  0.51   5.11   3.69     1.42   0.88     PDTTDPP-EH   \n",
       "930      0.45  0.83   1.81  0.30   5.40   3.50     1.86   1.03         BDT-C6   \n",
       "\n",
       "                                                 smiles  \n",
       "1133  CCCCCCCCCCC(CCCCCCCC)CN1C(=O)c2nc3c(nc2C1=O)c1...  \n",
       "425   CCCCCCCCC(CCCCCC)Cn1c(=O)c2cc3c(cc2c2sc(C)cc21...  \n",
       "78    CCCCCCCCCCCCOc1c2cc(-c3sc(C)c4c3OCCO4)sc2c(OCC...  \n",
       "803   CCCCCCCC[Si]1(CCCCCCCC)c2cc3c(cc2-c2sc(C)cc21)...  \n",
       "590   CCCCC(CC)COc1c2cc(-c3sc(C)c4c3CC(C(=O)OCC)(C(=...  \n",
       "908   CCCCCCC1(CCCCCC)c2cc(C)ccc2-c2ccc(N(c3ccc(/C=C...  \n",
       "881   CCCCCC(CCCCC)n1c2cc(C)sc2c2sc(-c3ccc(C)c4nsnc3...  \n",
       "543   CCCCCCCCOc1c(OCCCCCCCC)c(-c2ccc(-c3cc4c(-c5ccc...  \n",
       "1195  CCCCCCCCCCCCc1cc(C)sc1-c1cc2sc3cc(-c4sc(-c5ccc...  \n",
       "930   CCCCCCc1cc2c(cc1CCCCCC)C(=O)c1c(-c3cc4c(OCC(CC...  "
      ]
     },
     "execution_count": 2,
     "metadata": {},
     "output_type": "execute_result"
    }
   ],
   "source": [
    "import pandas as pd\n",
    "# read dataset as a dataframe\n",
    "dataset = pd.read_csv(\"huang_data.csv\")\n",
    "\n",
    "# print column names in dataset\n",
    "print(f\"Columns in dataset: {list(dataset.columns)}\")\n",
    "\n",
    "# print number of rows in dataset\n",
    "print(f\"\\nLength of dataset: {len(dataset)}\")\n",
    "\n",
    "# shuffle rows of the dataset (we could do this later as well when doing train/test splits)\n",
    "dataset = dataset.sample(frac=1, random_state=42)\n",
    "\n",
    "# show first 5 rows of dataframe\n",
    "dataset.head(10)"
   ]
  },
  {
   "cell_type": "code",
   "execution_count": 3,
   "metadata": {},
   "outputs": [],
   "source": [
    "# defining functions that will help in creating heatmaps\n",
    "\n",
    "\n",
    "from typing import List, Optional\n",
    "import numpy as np\n",
    "\n",
    "def generate_charset(full_char_list:list) -> list:\n",
    "    '''\n",
    "    Assumes full_char_list is a list of characters (e.g., ['c', 'c', '1']).\n",
    "    Returns a sorted list of unique characters, with index zero as a NULL character, and a PAD character.\n",
    "    '''\n",
    "    unique_chars = set(''.join(full_char_list))\n",
    "    charset = ['NULL', 'PAD'] + sorted(unique_chars)\n",
    "    return charset\n",
    "\n",
    "def smiles_to_onehots(smiles_strings:list,\n",
    "                     unique_charset:list,\n",
    "                     max_smiles_chars:int) -> np.array:\n",
    "    one_hots = []\n",
    "    charset_length = len(unique_charset)\n",
    "\n",
    "    for smiles_string in smiles_strings:\n",
    "        one_hot_smiles = np.zeros(shape=(max_smiles_chars, charset_length))\n",
    "        for i in range(max_smiles_chars):\n",
    "            one_hot_col = [0]*charset_length\n",
    "            ind = None # Which index will we flip to be \"one-hot\"?\n",
    "            \n",
    "            if i < len(smiles_string):\n",
    "                try:\n",
    "                    ind = unique_charset.index(smiles_string[i])\n",
    "                    # one_hot_col[unique_charset.index(char)] = 1\n",
    "                except ValueError:\n",
    "                    ind = 0 # Treat as NULL if out-of-vocab  \n",
    "                    # one_hot_col[0] = 1 # Treat as NULL if out-of-vocab   \n",
    "            else:\n",
    "                ind = 1 # Add PAD as needed\n",
    "            \n",
    "            one_hot_col[ind] = 1\n",
    "            one_hot_smiles[i,:] = one_hot_col\n",
    "            \n",
    "        one_hots.append(one_hot_smiles)\n",
    "    return np.array(one_hots)"
   ]
  },
  {
   "cell_type": "code",
   "execution_count": 4,
   "metadata": {
    "scrolled": true
   },
   "outputs": [
    {
     "name": "stderr",
     "output_type": "stream",
     "text": [
      "C:\\Users\\prate\\AppData\\Roaming\\Python\\Python37\\site-packages\\seaborn\\distributions.py:2551: FutureWarning: `distplot` is a deprecated function and will be removed in a future version. Please adapt your code to use either `displot` (a figure-level function with similar flexibility) or `histplot` (an axes-level function for histograms).\n",
      "  warnings.warn(msg, FutureWarning)\n"
     ]
    },
    {
     "data": {
      "text/plain": [
       "<AxesSubplot:xlabel='PCE_max', ylabel='Density'>"
      ]
     },
     "execution_count": 4,
     "metadata": {},
     "output_type": "execute_result"
    },
    {
     "data": {
      "image/png": "[encoded data removed]",
      "text/plain": [
       "<Figure size 432x288 with 1 Axes>"
      ]
     },
     "metadata": {
      "needs_background": "light"
     },
     "output_type": "display_data"
    }
   ],
   "source": [
    "import seaborn as sns\n",
    "sns.distplot(dataset[\"PCE_max\"])"
   ]
  },
  {
   "cell_type": "code",
   "execution_count": 5,
   "metadata": {},
   "outputs": [
    {
     "name": "stderr",
     "output_type": "stream",
     "text": [
      "C:\\Users\\prate\\AppData\\Roaming\\Python\\Python37\\site-packages\\seaborn\\distributions.py:2551: FutureWarning: `distplot` is a deprecated function and will be removed in a future version. Please adapt your code to use either `displot` (a figure-level function with similar flexibility) or `histplot` (an axes-level function for histograms).\n",
      "  warnings.warn(msg, FutureWarning)\n"
     ]
    },
    {
     "data": {
      "text/plain": [
       "<AxesSubplot:>"
      ]
     },
     "execution_count": 5,
     "metadata": {},
     "output_type": "execute_result"
    },
    {
     "data": {
      "image/png": "[encoded data removed]",
      "text/plain": [
       "<Figure size 432x288 with 1 Axes>"
      ]
     },
     "metadata": {
      "needs_background": "light"
     },
     "output_type": "display_data"
    }
   ],
   "source": [
    "smiles_lengths = map(len, dataset.smiles.values)\n",
    "sns.distplot(list(smiles_lengths), bins=20, kde=False)"
   ]
  },
  {
   "cell_type": "code",
   "execution_count": 6,
   "metadata": {},
   "outputs": [],
   "source": [
    "# get unique character set in all SMILES strings \n",
    "charset = generate_charset(\n",
    "    dataset[\"smiles\"].values.ravel()\n",
    ")\n",
    "\n",
    "# get the number of unique characters\n",
    "charset_length = len(charset)\n",
    "\n",
    "# define max number of SMILES for model input vector\n",
    "max_smiles_chars = 250\n",
    "\n",
    "# dimension of input vector\n",
    "input_dim = charset_length * max_smiles_chars\n",
    "\n",
    "# get one-hot representation of the SMILES strings \n",
    "one_hots = smiles_to_onehots(dataset[\"smiles\"].values, charset, max_smiles_chars)\n",
    "\n",
    "# # split input into train and test sets\n",
    "# X_train = one_hots[:-100]\n",
    "# X_test = one_hots[-100:]\n",
    "\n",
    "# # split output to train and test sets\n",
    "output = dataset[\"PCE_max\"].values\n",
    "# Y_train = output[:-100]\n",
    "# Y_test = output[-100:]\n",
    "X = one_hots\n",
    "Y = output"
   ]
  },
  {
   "cell_type": "code",
   "execution_count": 7,
   "metadata": {
    "scrolled": true
   },
   "outputs": [
    {
     "data": {
      "text/plain": [
       "(1203, 250, 41)"
      ]
     },
     "execution_count": 7,
     "metadata": {},
     "output_type": "execute_result"
    }
   ],
   "source": [
    "X.shape"
   ]
  },
  {
   "cell_type": "code",
   "execution_count": 8,
   "metadata": {},
   "outputs": [
    {
     "data": {
      "text/plain": [
       "['NULL',\n",
       " 'PAD',\n",
       " '#',\n",
       " '%',\n",
       " '(',\n",
       " ')',\n",
       " '-',\n",
       " '.',\n",
       " '/',\n",
       " '0',\n",
       " '1',\n",
       " '2',\n",
       " '3',\n",
       " '4',\n",
       " '5',\n",
       " '6',\n",
       " '7',\n",
       " '8',\n",
       " '9',\n",
       " '=',\n",
       " '@',\n",
       " 'B',\n",
       " 'C',\n",
       " 'F',\n",
       " 'G',\n",
       " 'H',\n",
       " 'N',\n",
       " 'O',\n",
       " 'P',\n",
       " 'S',\n",
       " '[',\n",
       " '\\\\',\n",
       " ']',\n",
       " 'c',\n",
       " 'e',\n",
       " 'i',\n",
       " 'l',\n",
       " 'n',\n",
       " 'o',\n",
       " 's',\n",
       " 't']"
      ]
     },
     "execution_count": 8,
     "metadata": {},
     "output_type": "execute_result"
    }
   ],
   "source": [
    "charset"
   ]
  },
  {
   "cell_type": "code",
   "execution_count": 9,
   "metadata": {},
   "outputs": [
    {
     "data": {
      "text/plain": [
       "41"
      ]
     },
     "execution_count": 9,
     "metadata": {},
     "output_type": "execute_result"
    }
   ],
   "source": [
    "charset_length"
   ]
  },
  {
   "cell_type": "code",
   "execution_count": 10,
   "metadata": {},
   "outputs": [
    {
     "name": "stdout",
     "output_type": "stream",
     "text": [
      "CCCCCCCCCCCCc1c(C)sc2c1[P@](=O)(c1ccccc1)c1c-2sc(-c2cc3sc4c(-c5cc(CCCCCCCCCC)c(CCCCCCCCCC)s5)c5c(sc6cc(C)sc65)c(-c5cc(CCCCCCCCCC)c(CCCCCCCCCC)s5)c4c3s2)c1CCCCCCCCCCCC\n"
     ]
    },
    {
     "data": {
      "image/png": "[encoded data removed]",
      "text/plain": [
       "<Figure size 432x288 with 2 Axes>"
      ]
     },
     "metadata": {
      "needs_background": "light"
     },
     "output_type": "display_data"
    }
   ],
   "source": [
    "import matplotlib.pyplot as plt\n",
    "index = 23\n",
    "sns.heatmap(X[index]) # This is a single training example -- note that it is a matrix, not a single vector!\n",
    "plt.xlabel('Character')\n",
    "plt.ylabel('Position in SMILES String')\n",
    "print(dataset.iloc[index]['smiles'])"
   ]
  },
  {
   "cell_type": "code",
   "execution_count": 11,
   "metadata": {},
   "outputs": [
    {
     "name": "stdout",
     "output_type": "stream",
     "text": [
      "Smiles string: PCzTTPz\n",
      "Smiles string: CCCCCCCCc1cc2c3cc(CCCCCCCC)sc3c3nc4c(-c5ccc(-c6ccc7c8ccc(C)cc8n(C(CCCCCCCC)CCCCCCCC)c7c6)s5)ccc(-c5ccc(C)s5)c4nc3c2s1\n",
      "PCE: 3.0\n",
      "Bandgap 1.66\n"
     ]
    },
    {
     "data": {
      "image/png": "[encoded data removed]",
      "text/plain": [
       "<rdkit.Chem.rdchem.Mol at 0x22bd06270d0>"
      ]
     },
     "execution_count": 11,
     "metadata": {},
     "output_type": "execute_result"
    },
    {
     "data": {
      "image/png": "[encoded data removed]",
      "text/plain": [
       "<Figure size 864x576 with 2 Axes>"
      ]
     },
     "metadata": {
      "needs_background": "light"
     },
     "output_type": "display_data"
    }
   ],
   "source": [
    "from rdkit import Chem\n",
    "from rdkit.Chem import Draw\n",
    "from rdkit.Chem.Draw import IPythonConsole\n",
    "from rdkit.Chem import Descriptors\n",
    "from rdkit.Chem import AllChem\n",
    "from rdkit import DataStructs\n",
    "import matplotlib.pyplot as plt\n",
    "index = 16\n",
    "fig, ax = plt.subplots(figsize=(12,8))         # Sample figsize in inches\n",
    "sns.heatmap(X[index],xticklabels=charset,ax=ax) # This is a single training example -- note that it is a matrix, not a single vector!\n",
    "plt.xlabel('Character')\n",
    "plt.ylabel('Position in SMILES String')\n",
    "print('Smiles string:',dataset.iloc[index]['Nickname'])\n",
    "print('Smiles string:',dataset.iloc[index]['smiles'])\n",
    "print('PCE:',dataset.iloc[index]['PCE_max'])\n",
    "print('Bandgap',dataset.iloc[index]['Bandgap'])\n",
    "mol = Chem.MolFromSmiles(dataset.iloc[index]['smiles'])\n",
    "mol"
   ]
  },
  {
   "cell_type": "code",
   "execution_count": 12,
   "metadata": {},
   "outputs": [],
   "source": [
    "X=X.reshape(1203,250,41,1)"
   ]
  },
  {
   "cell_type": "code",
   "execution_count": 13,
   "metadata": {},
   "outputs": [],
   "source": [
    "# from keras.models import Sequential\n",
    "from sklearn.model_selection import train_test_split\n",
    "X_train, X_test, y_train, y_test = train_test_split(X, Y, test_size=0.1, random_state=10)"
   ]
  },
  {
   "cell_type": "code",
   "execution_count": 14,
   "metadata": {},
   "outputs": [],
   "source": [
    "from tensorflow.keras.layers import (Input, Dense, Conv1D, MaxPool1D, Dropout, GRU, LSTM, \n",
    "                          TimeDistributed, Add, Flatten, RepeatVector, Lambda, Concatenate)"
   ]
  },
  {
   "cell_type": "code",
   "execution_count": 15,
   "metadata": {},
   "outputs": [],
   "source": [
    "from tensorflow.keras import datasets, layers, models\n",
    "model = models.Sequential()\n",
    "model.add(layers.Conv2D(32, (5, 5), activation='relu',padding=\"SAME\",input_shape=(250, 41, 1)))\n",
    "# model.add(layers.MaxPooling2D((2, 2)))\n",
    "# model.add(layers.Conv2D(32, (3, 3), activation='relu',padding=\"SAME\"))\n",
    "model.add(layers.MaxPooling2D((2, 2)))\n",
    "model.add(Dropout(0.1))\n",
    "model.add(layers.Conv2D(64, (3, 3), activation='relu',padding=\"SAME\"))\n",
    "# model.add(layers.Conv2D(64, (3, 3), activation='relu',padding=\"SAME\"))\n",
    "model.add(layers.MaxPooling2D((2, 2)))\n",
    "model.add(Dropout(0.1))\n",
    "# model.add(layers.Conv2D(128, (3, 3), activation='relu',padding=\"SAME\"))\n",
    "# model.add(layers.Conv2D(128, (3, 3), activation='relu',padding=\"SAME\"))\n",
    "# model.add(layers.MaxPooling2D((2, 2)))\n",
    "# model.add(layers.Conv2D(128, (3, 3), activation='relu',padding=\"SAME\"))\n",
    "# model.add(layers.Conv2D(128, (3, 3), activation='relu',padding=\"SAME\"))\n",
    "# model.add(layers.MaxPooling2D((2, 2)))\n",
    "# model.add(layers.Conv2D(128, (3, 3), activation='relu',padding=\"SAME\"))\n",
    "# model.add(layers.Conv2D(128, (3, 3), activation='relu',padding=\"SAME\"))\n",
    "# # model.add(layers.MaxPooling2D((2, 2)))\n",
    "# model.add(layers.Conv2D(128, (3, 3), activation='relu',padding=\"SAME\"))\n",
    "# model.add(layers.Conv2D(128, (3, 3), activation='relu',padding=\"SAME\"))\n",
    "# model.add(layers.MaxPooling2D((2, 2)))\n",
    "\n",
    "\n",
    "# model.add(layers.Conv2D(128, (3, 3), activation='relu'))\n",
    "\n"
   ]
  },
  {
   "cell_type": "code",
   "execution_count": 16,
   "metadata": {},
   "outputs": [],
   "source": [
    "model.add(layers.Flatten())\n",
    "model.add(layers.Dense(128, activation='relu'))\n",
    "model.add(Dropout(0.1))\n",
    "model.add(layers.Dense(64, activation='relu'))\n",
    "model.add(Dropout(0.1))\n",
    "# model.add(layers.Dense(32, activation='relu'))\n",
    "# model.add(Dropout(0.1))\n",
    "# model.add(layers.Dense(20, activation='relu'))\n",
    "# model.add(layers.Dense(20, activation='relu'))\n",
    "model.add(layers.Dense(1))"
   ]
  },
  {
   "cell_type": "code",
   "execution_count": 17,
   "metadata": {},
   "outputs": [
    {
     "name": "stdout",
     "output_type": "stream",
     "text": [
      "Model: \"sequential\"\n",
      "_________________________________________________________________\n",
      "Layer (type)                 Output Shape              Param #   \n",
      "=================================================================\n",
      "conv2d (Conv2D)              (None, 250, 41, 32)       832       \n",
      "_________________________________________________________________\n",
      "max_pooling2d (MaxPooling2D) (None, 125, 20, 32)       0         \n",
      "_________________________________________________________________\n",
      "dropout (Dropout)            (None, 125, 20, 32)       0         \n",
      "_________________________________________________________________\n",
      "conv2d_1 (Conv2D)            (None, 125, 20, 64)       18496     \n",
      "_________________________________________________________________\n",
      "max_pooling2d_1 (MaxPooling2 (None, 62, 10, 64)        0         \n",
      "_________________________________________________________________\n",
      "dropout_1 (Dropout)          (None, 62, 10, 64)        0         \n",
      "_________________________________________________________________\n",
      "flatten (Flatten)            (None, 39680)             0         \n",
      "_________________________________________________________________\n",
      "dense (Dense)                (None, 128)               5079168   \n",
      "_________________________________________________________________\n",
      "dropout_2 (Dropout)          (None, 128)               0         \n",
      "_________________________________________________________________\n",
      "dense_1 (Dense)              (None, 64)                8256      \n",
      "_________________________________________________________________\n",
      "dropout_3 (Dropout)          (None, 64)                0         \n",
      "_________________________________________________________________\n",
      "dense_2 (Dense)              (None, 1)                 65        \n",
      "=================================================================\n",
      "Total params: 5,106,817\n",
      "Trainable params: 5,106,817\n",
      "Non-trainable params: 0\n",
      "_________________________________________________________________\n"
     ]
    }
   ],
   "source": [
    "model.summary()"
   ]
  },
  {
   "cell_type": "code",
   "execution_count": 18,
   "metadata": {},
   "outputs": [],
   "source": [
    "# from tensorflow import keras\n",
    "# optimizer = keras.optimizers.Adam(learning_rate=0.0001)"
   ]
  },
  {
   "cell_type": "code",
   "execution_count": 19,
   "metadata": {},
   "outputs": [
    {
     "name": "stdout",
     "output_type": "stream",
     "text": [
      "Epoch 1/100\n",
      "61/61 [==============================] - 9s 17ms/step - loss: 7.2108 - mae: 2.1521 - val_loss: 6.0492 - val_mae: 2.0737\n",
      "Epoch 2/100\n",
      "61/61 [==============================] - 1s 11ms/step - loss: 5.3710 - mae: 1.9070 - val_loss: 5.7996 - val_mae: 2.0228\n",
      "Epoch 3/100\n",
      "61/61 [==============================] - 1s 11ms/step - loss: 5.1511 - mae: 1.8537 - val_loss: 5.8601 - val_mae: 2.0199\n",
      "Epoch 4/100\n",
      "61/61 [==============================] - 1s 11ms/step - loss: 4.6014 - mae: 1.7654 - val_loss: 5.0296 - val_mae: 1.8773\n",
      "Epoch 5/100\n",
      "61/61 [==============================] - 1s 11ms/step - loss: 4.0073 - mae: 1.6328 - val_loss: 5.2740 - val_mae: 1.8793\n",
      "Epoch 6/100\n",
      "61/61 [==============================] - 1s 11ms/step - loss: 3.7217 - mae: 1.5587 - val_loss: 5.8842 - val_mae: 1.9795\n",
      "Epoch 7/100\n",
      "61/61 [==============================] - 1s 11ms/step - loss: 3.1430 - mae: 1.4194 - val_loss: 5.4417 - val_mae: 1.8997\n",
      "Epoch 8/100\n",
      "61/61 [==============================] - 1s 11ms/step - loss: 2.6207 - mae: 1.2789 - val_loss: 5.2536 - val_mae: 1.8547\n",
      "Epoch 9/100\n",
      "61/61 [==============================] - 1s 11ms/step - loss: 2.4777 - mae: 1.2671 - val_loss: 5.2816 - val_mae: 1.8381\n",
      "Epoch 10/100\n",
      "61/61 [==============================] - 1s 11ms/step - loss: 2.0439 - mae: 1.1365 - val_loss: 5.4536 - val_mae: 1.9028\n",
      "Epoch 11/100\n",
      "61/61 [==============================] - 1s 10ms/step - loss: 1.8796 - mae: 1.0700 - val_loss: 5.4332 - val_mae: 1.8769\n",
      "Epoch 12/100\n",
      "61/61 [==============================] - 1s 11ms/step - loss: 1.7197 - mae: 1.0101 - val_loss: 5.4119 - val_mae: 1.8892\n",
      "Epoch 13/100\n",
      "61/61 [==============================] - 1s 12ms/step - loss: 1.3181 - mae: 0.8967 - val_loss: 5.4914 - val_mae: 1.8694\n",
      "Epoch 14/100\n",
      "61/61 [==============================] - 1s 11ms/step - loss: 1.3593 - mae: 0.9068 - val_loss: 5.7889 - val_mae: 1.9493\n",
      "Epoch 15/100\n",
      "61/61 [==============================] - 1s 11ms/step - loss: 1.3759 - mae: 0.9019 - val_loss: 5.7081 - val_mae: 1.9362\n",
      "Epoch 16/100\n",
      "61/61 [==============================] - 1s 11ms/step - loss: 1.3384 - mae: 0.8972 - val_loss: 5.9216 - val_mae: 1.9729\n",
      "Epoch 17/100\n",
      "61/61 [==============================] - 1s 11ms/step - loss: 1.2848 - mae: 0.8615 - val_loss: 5.7362 - val_mae: 1.9140\n",
      "Epoch 18/100\n",
      "61/61 [==============================] - 1s 11ms/step - loss: 1.2353 - mae: 0.8575 - val_loss: 5.1841 - val_mae: 1.8500\n",
      "Epoch 19/100\n",
      "61/61 [==============================] - 1s 12ms/step - loss: 1.1255 - mae: 0.7847 - val_loss: 5.3287 - val_mae: 1.8704\n",
      "Epoch 20/100\n",
      "61/61 [==============================] - 1s 12ms/step - loss: 0.9765 - mae: 0.7484 - val_loss: 5.6592 - val_mae: 1.9487\n",
      "Epoch 21/100\n",
      "61/61 [==============================] - 1s 11ms/step - loss: 0.9185 - mae: 0.7197 - val_loss: 5.5264 - val_mae: 1.8981\n",
      "Epoch 22/100\n",
      "61/61 [==============================] - 1s 11ms/step - loss: 1.0399 - mae: 0.7714 - val_loss: 5.2954 - val_mae: 1.9051\n",
      "Epoch 23/100\n",
      "61/61 [==============================] - 1s 10ms/step - loss: 0.9878 - mae: 0.7351 - val_loss: 5.3805 - val_mae: 1.8784\n",
      "Epoch 24/100\n",
      "61/61 [==============================] - 1s 11ms/step - loss: 1.0614 - mae: 0.7608 - val_loss: 5.5399 - val_mae: 1.9068\n",
      "Epoch 25/100\n",
      "61/61 [==============================] - 1s 11ms/step - loss: 0.9069 - mae: 0.7110 - val_loss: 5.4141 - val_mae: 1.8624\n",
      "Epoch 26/100\n",
      "61/61 [==============================] - 1s 10ms/step - loss: 0.8908 - mae: 0.7000 - val_loss: 5.3380 - val_mae: 1.8568\n",
      "Epoch 27/100\n",
      "61/61 [==============================] - 1s 12ms/step - loss: 0.9171 - mae: 0.6978 - val_loss: 5.4017 - val_mae: 1.8822\n",
      "Epoch 28/100\n",
      "61/61 [==============================] - 1s 11ms/step - loss: 0.8254 - mae: 0.6746 - val_loss: 5.3542 - val_mae: 1.8607\n",
      "Epoch 29/100\n",
      "61/61 [==============================] - 1s 12ms/step - loss: 0.7729 - mae: 0.6454 - val_loss: 5.2543 - val_mae: 1.8359\n",
      "Epoch 30/100\n",
      "61/61 [==============================] - 1s 11ms/step - loss: 0.7533 - mae: 0.6276 - val_loss: 5.3370 - val_mae: 1.8712\n",
      "Epoch 31/100\n",
      "61/61 [==============================] - 1s 11ms/step - loss: 0.8159 - mae: 0.6710 - val_loss: 5.4739 - val_mae: 1.8959\n",
      "Epoch 32/100\n",
      "61/61 [==============================] - 1s 16ms/step - loss: 0.8573 - mae: 0.6893 - val_loss: 5.6674 - val_mae: 1.9224\n",
      "Epoch 33/100\n",
      "61/61 [==============================] - 1s 13ms/step - loss: 0.8132 - mae: 0.6544 - val_loss: 5.4669 - val_mae: 1.9039\n",
      "Epoch 34/100\n",
      "61/61 [==============================] - 1s 12ms/step - loss: 0.7860 - mae: 0.6525 - val_loss: 5.5349 - val_mae: 1.8961\n",
      "Epoch 35/100\n",
      "61/61 [==============================] - 1s 12ms/step - loss: 0.7650 - mae: 0.6412 - val_loss: 5.2681 - val_mae: 1.8585\n",
      "Epoch 36/100\n",
      "61/61 [==============================] - 1s 11ms/step - loss: 0.6973 - mae: 0.6035 - val_loss: 5.3588 - val_mae: 1.8775\n",
      "Epoch 37/100\n",
      "61/61 [==============================] - 1s 11ms/step - loss: 0.7551 - mae: 0.6286 - val_loss: 5.3233 - val_mae: 1.8848\n",
      "Epoch 38/100\n",
      "61/61 [==============================] - 1s 14ms/step - loss: 0.6990 - mae: 0.6260 - val_loss: 5.3540 - val_mae: 1.8626\n",
      "Epoch 39/100\n",
      "61/61 [==============================] - 1s 11ms/step - loss: 0.7121 - mae: 0.6157 - val_loss: 5.0998 - val_mae: 1.8140\n",
      "Epoch 40/100\n",
      "61/61 [==============================] - 1s 11ms/step - loss: 0.7273 - mae: 0.6229 - val_loss: 5.3471 - val_mae: 1.8704\n",
      "Epoch 41/100\n",
      "61/61 [==============================] - 1s 11ms/step - loss: 0.7197 - mae: 0.6129 - val_loss: 5.8200 - val_mae: 1.9537\n",
      "Epoch 42/100\n",
      "61/61 [==============================] - 1s 12ms/step - loss: 0.7811 - mae: 0.6403 - val_loss: 5.4161 - val_mae: 1.8797\n",
      "Epoch 43/100\n",
      "61/61 [==============================] - 1s 11ms/step - loss: 0.7091 - mae: 0.6046 - val_loss: 5.2370 - val_mae: 1.8662\n",
      "Epoch 44/100\n",
      "61/61 [==============================] - 1s 12ms/step - loss: 0.7254 - mae: 0.6100 - val_loss: 5.5416 - val_mae: 1.8996\n",
      "Epoch 45/100\n",
      "61/61 [==============================] - 1s 12ms/step - loss: 0.7858 - mae: 0.6467 - val_loss: 5.3735 - val_mae: 1.8831\n",
      "Epoch 46/100\n",
      "61/61 [==============================] - 1s 12ms/step - loss: 0.7638 - mae: 0.6387 - val_loss: 5.4768 - val_mae: 1.8811\n",
      "Epoch 47/100\n",
      "61/61 [==============================] - 1s 11ms/step - loss: 0.6917 - mae: 0.5942 - val_loss: 5.2942 - val_mae: 1.8869\n",
      "Epoch 48/100\n",
      "61/61 [==============================] - 1s 11ms/step - loss: 0.7928 - mae: 0.6446 - val_loss: 5.5694 - val_mae: 1.9051\n",
      "Epoch 49/100\n",
      "61/61 [==============================] - 1s 11ms/step - loss: 0.6435 - mae: 0.5857 - val_loss: 5.6300 - val_mae: 1.9202\n",
      "Epoch 50/100\n",
      "61/61 [==============================] - 1s 11ms/step - loss: 0.6230 - mae: 0.5567 - val_loss: 5.2186 - val_mae: 1.8387\n",
      "Epoch 51/100\n",
      "61/61 [==============================] - 1s 11ms/step - loss: 0.6109 - mae: 0.5631 - val_loss: 5.2236 - val_mae: 1.8342\n",
      "Epoch 52/100\n",
      "61/61 [==============================] - 1s 11ms/step - loss: 0.6910 - mae: 0.5896 - val_loss: 5.2669 - val_mae: 1.8522\n",
      "Epoch 53/100\n",
      "61/61 [==============================] - 1s 10ms/step - loss: 0.6137 - mae: 0.5631 - val_loss: 5.3678 - val_mae: 1.8794\n",
      "Epoch 54/100\n",
      "61/61 [==============================] - 1s 11ms/step - loss: 0.5971 - mae: 0.5599 - val_loss: 5.1337 - val_mae: 1.8402\n",
      "Epoch 55/100\n",
      "61/61 [==============================] - 1s 11ms/step - loss: 0.6275 - mae: 0.5664 - val_loss: 5.4407 - val_mae: 1.8780\n",
      "Epoch 56/100\n",
      "61/61 [==============================] - 1s 11ms/step - loss: 0.6399 - mae: 0.5739 - val_loss: 5.2637 - val_mae: 1.8423\n",
      "Epoch 57/100\n",
      "61/61 [==============================] - 1s 10ms/step - loss: 0.5808 - mae: 0.5425 - val_loss: 5.3341 - val_mae: 1.8691\n",
      "Epoch 58/100\n",
      "61/61 [==============================] - 1s 11ms/step - loss: 0.6425 - mae: 0.5709 - val_loss: 5.2426 - val_mae: 1.8387\n",
      "Epoch 59/100\n",
      "61/61 [==============================] - 1s 10ms/step - loss: 0.6827 - mae: 0.5976 - val_loss: 5.3073 - val_mae: 1.8621\n",
      "Epoch 60/100\n",
      "61/61 [==============================] - 1s 11ms/step - loss: 0.6095 - mae: 0.5618 - val_loss: 5.2694 - val_mae: 1.8165\n",
      "Epoch 61/100\n",
      "61/61 [==============================] - 1s 11ms/step - loss: 0.6238 - mae: 0.5685 - val_loss: 5.3109 - val_mae: 1.8573\n",
      "Epoch 62/100\n",
      "61/61 [==============================] - 1s 10ms/step - loss: 0.6297 - mae: 0.5672 - val_loss: 5.4068 - val_mae: 1.9003\n",
      "Epoch 63/100\n",
      "61/61 [==============================] - 1s 10ms/step - loss: 0.6296 - mae: 0.5664 - val_loss: 5.4963 - val_mae: 1.8835\n",
      "Epoch 64/100\n",
      "61/61 [==============================] - 1s 10ms/step - loss: 0.5931 - mae: 0.5513 - val_loss: 5.2931 - val_mae: 1.8360\n",
      "Epoch 65/100\n",
      "61/61 [==============================] - 1s 10ms/step - loss: 0.6263 - mae: 0.5708 - val_loss: 5.4194 - val_mae: 1.8841\n",
      "Epoch 66/100\n",
      "61/61 [==============================] - 1s 10ms/step - loss: 0.5841 - mae: 0.5513 - val_loss: 5.1927 - val_mae: 1.8229\n",
      "Epoch 67/100\n",
      "61/61 [==============================] - 1s 10ms/step - loss: 0.5372 - mae: 0.5232 - val_loss: 5.2762 - val_mae: 1.8500\n",
      "Epoch 68/100\n",
      "61/61 [==============================] - 1s 10ms/step - loss: 0.5715 - mae: 0.5433 - val_loss: 5.4083 - val_mae: 1.8766\n",
      "Epoch 69/100\n",
      "61/61 [==============================] - 1s 11ms/step - loss: 0.5173 - mae: 0.5236 - val_loss: 5.3428 - val_mae: 1.8330\n",
      "Epoch 70/100\n",
      "61/61 [==============================] - 1s 10ms/step - loss: 0.5872 - mae: 0.5519 - val_loss: 5.3043 - val_mae: 1.8746\n",
      "Epoch 71/100\n",
      "61/61 [==============================] - 1s 10ms/step - loss: 0.5870 - mae: 0.5433 - val_loss: 5.3341 - val_mae: 1.8742\n",
      "Epoch 72/100\n",
      "61/61 [==============================] - 1s 10ms/step - loss: 0.5969 - mae: 0.5578 - val_loss: 5.4682 - val_mae: 1.9056\n",
      "Epoch 73/100\n",
      "61/61 [==============================] - 1s 10ms/step - loss: 0.6274 - mae: 0.5706 - val_loss: 5.1036 - val_mae: 1.8284\n",
      "Epoch 74/100\n",
      "61/61 [==============================] - 1s 10ms/step - loss: 0.5924 - mae: 0.5533 - val_loss: 5.5025 - val_mae: 1.9077\n",
      "Epoch 75/100\n",
      "61/61 [==============================] - 1s 11ms/step - loss: 0.5936 - mae: 0.5411 - val_loss: 5.1674 - val_mae: 1.8323\n",
      "Epoch 76/100\n",
      "61/61 [==============================] - 1s 11ms/step - loss: 0.5294 - mae: 0.5213 - val_loss: 5.2123 - val_mae: 1.8411\n",
      "Epoch 77/100\n",
      "61/61 [==============================] - 1s 10ms/step - loss: 0.5386 - mae: 0.5336 - val_loss: 5.1423 - val_mae: 1.8457\n",
      "Epoch 78/100\n",
      "61/61 [==============================] - 1s 10ms/step - loss: 0.5683 - mae: 0.5359 - val_loss: 5.2990 - val_mae: 1.8636\n",
      "Epoch 79/100\n",
      "61/61 [==============================] - 1s 10ms/step - loss: 0.5224 - mae: 0.5110 - val_loss: 4.9801 - val_mae: 1.7927\n",
      "Epoch 80/100\n",
      "61/61 [==============================] - 1s 10ms/step - loss: 0.5778 - mae: 0.5422 - val_loss: 5.1210 - val_mae: 1.8348\n",
      "Epoch 81/100\n",
      "61/61 [==============================] - 1s 11ms/step - loss: 0.6132 - mae: 0.5597 - val_loss: 5.1580 - val_mae: 1.8300\n",
      "Epoch 82/100\n",
      "61/61 [==============================] - 1s 10ms/step - loss: 0.5826 - mae: 0.5353 - val_loss: 5.2989 - val_mae: 1.8543\n",
      "Epoch 83/100\n",
      "61/61 [==============================] - 1s 10ms/step - loss: 0.5796 - mae: 0.5448 - val_loss: 4.9541 - val_mae: 1.7945\n",
      "Epoch 84/100\n",
      "61/61 [==============================] - 1s 11ms/step - loss: 0.5495 - mae: 0.5366 - val_loss: 5.1197 - val_mae: 1.8277\n",
      "Epoch 85/100\n",
      "61/61 [==============================] - 1s 11ms/step - loss: 0.4952 - mae: 0.4850 - val_loss: 4.8841 - val_mae: 1.7809\n",
      "Epoch 86/100\n",
      "61/61 [==============================] - 1s 11ms/step - loss: 0.4668 - mae: 0.4977 - val_loss: 5.3430 - val_mae: 1.8822\n",
      "Epoch 87/100\n",
      "61/61 [==============================] - 1s 11ms/step - loss: 0.5013 - mae: 0.5020 - val_loss: 5.2961 - val_mae: 1.8519\n",
      "Epoch 88/100\n",
      "61/61 [==============================] - 1s 10ms/step - loss: 0.5138 - mae: 0.5008 - val_loss: 5.0447 - val_mae: 1.8039\n",
      "Epoch 89/100\n",
      "61/61 [==============================] - 1s 11ms/step - loss: 0.4738 - mae: 0.4874 - val_loss: 4.9868 - val_mae: 1.8009\n",
      "Epoch 90/100\n",
      "61/61 [==============================] - 1s 11ms/step - loss: 0.4786 - mae: 0.4979 - val_loss: 5.1266 - val_mae: 1.8295\n",
      "Epoch 91/100\n",
      "61/61 [==============================] - 1s 11ms/step - loss: 0.4683 - mae: 0.4918 - val_loss: 5.0450 - val_mae: 1.8096\n",
      "Epoch 92/100\n",
      "61/61 [==============================] - 1s 11ms/step - loss: 0.5471 - mae: 0.5183 - val_loss: 5.1664 - val_mae: 1.8327\n",
      "Epoch 93/100\n",
      "61/61 [==============================] - 1s 12ms/step - loss: 0.4900 - mae: 0.4918 - val_loss: 4.9174 - val_mae: 1.7840\n",
      "Epoch 94/100\n",
      "61/61 [==============================] - 1s 11ms/step - loss: 0.4999 - mae: 0.4869 - val_loss: 5.1122 - val_mae: 1.8123\n",
      "Epoch 95/100\n",
      "61/61 [==============================] - 1s 11ms/step - loss: 0.4823 - mae: 0.4802 - val_loss: 4.9804 - val_mae: 1.8010\n",
      "Epoch 96/100\n",
      "61/61 [==============================] - 1s 11ms/step - loss: 0.4843 - mae: 0.4994 - val_loss: 5.1144 - val_mae: 1.8073\n",
      "Epoch 97/100\n",
      "61/61 [==============================] - 1s 11ms/step - loss: 0.5070 - mae: 0.5150 - val_loss: 5.0839 - val_mae: 1.8062\n",
      "Epoch 98/100\n",
      "61/61 [==============================] - 1s 10ms/step - loss: 0.4991 - mae: 0.4920 - val_loss: 5.0339 - val_mae: 1.7817\n",
      "Epoch 99/100\n",
      "61/61 [==============================] - 1s 10ms/step - loss: 0.4997 - mae: 0.5041 - val_loss: 5.0911 - val_mae: 1.7992\n",
      "Epoch 100/100\n",
      "61/61 [==============================] - 1s 11ms/step - loss: 0.4954 - mae: 0.4902 - val_loss: 5.1478 - val_mae: 1.7961\n"
     ]
    }
   ],
   "source": [
    "model.compile(optimizer='adam',loss=\"mse\",metrics='mae')\n",
    "Model_rms_1=model.fit(x=X_train,y=y_train,epochs=100,batch_size=16,validation_split=0.1)"
   ]
  },
  {
   "cell_type": "code",
   "execution_count": 20,
   "metadata": {},
   "outputs": [
    {
     "data": {
      "image/png": "[encoded data removed]",
      "text/plain": [
       "<Figure size 432x288 with 1 Axes>"
      ]
     },
     "metadata": {
      "needs_background": "light"
     },
     "output_type": "display_data"
    }
   ],
   "source": [
    "# plot the learning curve \n",
    "plt.plot(Model_rms_1.history['loss'])\n",
    "plt.plot(Model_rms_1.history['val_loss'])\n",
    "plt.title('Model accuracy')\n",
    "plt.ylabel('Error')\n",
    "plt.xlabel('Epoch')\n",
    "plt.xlim(0,)\n",
    "plt.legend(['Train', 'Validation',], loc='upper left')\n",
    "plt.show()"
   ]
  },
  {
   "cell_type": "code",
   "execution_count": 21,
   "metadata": {},
   "outputs": [
    {
     "data": {
      "text/plain": [
       "<matplotlib.legend.Legend at 0x22c11de1788>"
      ]
     },
     "execution_count": 21,
     "metadata": {},
     "output_type": "execute_result"
    },
    {
     "data": {
      "image/png": "[encoded data removed]",
      "text/plain": [
       "<Figure size 432x288 with 1 Axes>"
      ]
     },
     "metadata": {
      "needs_background": "light"
     },
     "output_type": "display_data"
    }
   ],
   "source": [
    "preds = model.predict(X_train)\n",
    "x_y_line = np.linspace(min(y_train.flatten()), max(y_train.flatten()), 500)\n",
    "plt.plot(y_train.flatten(), preds.flatten(), 'o', label='predictions')\n",
    "plt.plot(x_y_line, x_y_line, label='y=x')\n",
    "plt.xlabel(\"PCE (ground truth)\")\n",
    "plt.ylabel(\"PCE (predicted)\")\n",
    "plt.title(\"Parity plot: predictions vs ground truth data\")\n",
    "plt.legend()"
   ]
  },
  {
   "cell_type": "code",
   "execution_count": 22,
   "metadata": {},
   "outputs": [
    {
     "name": "stdout",
     "output_type": "stream",
     "text": [
      "R2Score 0.8701837595733635\n"
     ]
    }
   ],
   "source": [
    "from sklearn.metrics import r2_score\n",
    "from sklearn import metrics\n",
    "\n",
    "def R2Score(X,Y):\n",
    "    r2=metrics.r2_score(X,Y)\n",
    "    return r2\n",
    "\n",
    "print('R2Score',R2Score(y_train, preds))"
   ]
  },
  {
   "cell_type": "code",
   "execution_count": 23,
   "metadata": {},
   "outputs": [
    {
     "data": {
      "text/plain": [
       "<matplotlib.legend.Legend at 0x22c11feb248>"
      ]
     },
     "execution_count": 23,
     "metadata": {},
     "output_type": "execute_result"
    },
    {
     "data": {
      "image/png": "[encoded data removed]",
      "text/plain": [
       "<Figure size 432x288 with 1 Axes>"
      ]
     },
     "metadata": {
      "needs_background": "light"
     },
     "output_type": "display_data"
    }
   ],
   "source": [
    "preds = model.predict(X_test)\n",
    "x_y_line = np.linspace(min(y_train.flatten()), max(y_train.flatten()), 500)\n",
    "plt.plot(y_test.flatten(), preds.flatten(), 'o', label='predictions')\n",
    "plt.plot(x_y_line, x_y_line, label='y=x')\n",
    "plt.xlabel(\"PCE (ground truth)\")\n",
    "plt.ylabel(\"PCE (predicted)\")\n",
    "plt.title(\"Parity plot: predictions vs ground truth data\")\n",
    "plt.legend()"
   ]
  },
  {
   "cell_type": "code",
   "execution_count": 24,
   "metadata": {},
   "outputs": [
    {
     "name": "stdout",
     "output_type": "stream",
     "text": [
      "R2Score 0.36891385866401083\n"
     ]
    }
   ],
   "source": [
    "from sklearn.metrics import r2_score\n",
    "from sklearn import metrics\n",
    "\n",
    "def R2Score(X,Y):\n",
    "    r2=metrics.r2_score(X,Y)\n",
    "    return r2\n",
    "\n",
    "print('R2Score',R2Score(y_test, preds))"
   ]
  },
  {
   "cell_type": "code",
   "execution_count": 25,
   "metadata": {},
   "outputs": [],
   "source": [
    "# Defining Metrics\n",
    "def R2Score(X,Y):\n",
    "    r2=metrics.r2_score(X,Y)\n",
    "    return r2\n",
    "def PearsonCoefficient(X, Y):\n",
    "    corr, _ = pearsonr(X,Y)\n",
    "    return corr\n",
    "def MSE(X,Y):\n",
    "    mse=mean_squared_error(X,Y)\n",
    "    return mse\n",
    "def RMSE(X,Y):\n",
    "    rmse=np.sqrt(mean_squared_error(X,Y))\n",
    "    return rmse\n",
    "def MAPE(X,Y):\n",
    "    mape=np.average(abs(np.array(X)-np.array(Y))/np.array(Y))*100\n",
    "    return mape"
   ]
  },
  {
   "cell_type": "code",
   "execution_count": 26,
   "metadata": {},
   "outputs": [],
   "source": [
    "from scipy.stats.stats import pearsonr"
   ]
  },
  {
   "cell_type": "code",
   "execution_count": 27,
   "metadata": {},
   "outputs": [
    {
     "ename": "TypeError",
     "evalue": "No loop matching the specified signature and casting was found for ufunc add",
     "output_type": "error",
     "traceback": [
      "\u001b[1;31m---------------------------------------------------------------------------\u001b[0m",
      "\u001b[1;31mTypeError\u001b[0m                                 Traceback (most recent call last)",
      "\u001b[1;32m~\\AppData\\Local\\Temp\\ipykernel_10152\\2667167602.py\u001b[0m in \u001b[0;36m<module>\u001b[1;34m\u001b[0m\n\u001b[1;32m----> 1\u001b[1;33m \u001b[0mPearsonCoefficient\u001b[0m\u001b[1;33m(\u001b[0m\u001b[0my_test\u001b[0m\u001b[1;33m,\u001b[0m \u001b[0mpreds\u001b[0m\u001b[1;33m)\u001b[0m\u001b[1;33m\u001b[0m\u001b[1;33m\u001b[0m\u001b[0m\n\u001b[0m",
      "\u001b[1;32m~\\AppData\\Local\\Temp\\ipykernel_10152\\1925574358.py\u001b[0m in \u001b[0;36mPearsonCoefficient\u001b[1;34m(X, Y)\u001b[0m\n\u001b[0;32m      4\u001b[0m     \u001b[1;32mreturn\u001b[0m \u001b[0mr2\u001b[0m\u001b[1;33m\u001b[0m\u001b[1;33m\u001b[0m\u001b[0m\n\u001b[0;32m      5\u001b[0m \u001b[1;32mdef\u001b[0m \u001b[0mPearsonCoefficient\u001b[0m\u001b[1;33m(\u001b[0m\u001b[0mX\u001b[0m\u001b[1;33m,\u001b[0m \u001b[0mY\u001b[0m\u001b[1;33m)\u001b[0m\u001b[1;33m:\u001b[0m\u001b[1;33m\u001b[0m\u001b[1;33m\u001b[0m\u001b[0m\n\u001b[1;32m----> 6\u001b[1;33m     \u001b[0mcorr\u001b[0m\u001b[1;33m,\u001b[0m \u001b[0m_\u001b[0m \u001b[1;33m=\u001b[0m \u001b[0mpearsonr\u001b[0m\u001b[1;33m(\u001b[0m\u001b[0mX\u001b[0m\u001b[1;33m,\u001b[0m\u001b[0mY\u001b[0m\u001b[1;33m)\u001b[0m\u001b[1;33m\u001b[0m\u001b[1;33m\u001b[0m\u001b[0m\n\u001b[0m\u001b[0;32m      7\u001b[0m     \u001b[1;32mreturn\u001b[0m \u001b[0mcorr\u001b[0m\u001b[1;33m\u001b[0m\u001b[1;33m\u001b[0m\u001b[0m\n\u001b[0;32m      8\u001b[0m \u001b[1;32mdef\u001b[0m \u001b[0mMSE\u001b[0m\u001b[1;33m(\u001b[0m\u001b[0mX\u001b[0m\u001b[1;33m,\u001b[0m\u001b[0mY\u001b[0m\u001b[1;33m)\u001b[0m\u001b[1;33m:\u001b[0m\u001b[1;33m\u001b[0m\u001b[1;33m\u001b[0m\u001b[0m\n",
      "\u001b[1;32m~\\anaconda3\\envs\\my-rdkit-env1\\lib\\site-packages\\scipy\\stats\\stats.py\u001b[0m in \u001b[0;36mpearsonr\u001b[1;34m(x, y)\u001b[0m\n\u001b[0;32m   4032\u001b[0m         \u001b[1;32mreturn\u001b[0m \u001b[0mdtype\u001b[0m\u001b[1;33m(\u001b[0m\u001b[0mnp\u001b[0m\u001b[1;33m.\u001b[0m\u001b[0msign\u001b[0m\u001b[1;33m(\u001b[0m\u001b[0mx\u001b[0m\u001b[1;33m[\u001b[0m\u001b[1;36m1\u001b[0m\u001b[1;33m]\u001b[0m \u001b[1;33m-\u001b[0m \u001b[0mx\u001b[0m\u001b[1;33m[\u001b[0m\u001b[1;36m0\u001b[0m\u001b[1;33m]\u001b[0m\u001b[1;33m)\u001b[0m\u001b[1;33m*\u001b[0m\u001b[0mnp\u001b[0m\u001b[1;33m.\u001b[0m\u001b[0msign\u001b[0m\u001b[1;33m(\u001b[0m\u001b[0my\u001b[0m\u001b[1;33m[\u001b[0m\u001b[1;36m1\u001b[0m\u001b[1;33m]\u001b[0m \u001b[1;33m-\u001b[0m \u001b[0my\u001b[0m\u001b[1;33m[\u001b[0m\u001b[1;36m0\u001b[0m\u001b[1;33m]\u001b[0m\u001b[1;33m)\u001b[0m\u001b[1;33m)\u001b[0m\u001b[1;33m,\u001b[0m \u001b[1;36m1.0\u001b[0m\u001b[1;33m\u001b[0m\u001b[1;33m\u001b[0m\u001b[0m\n\u001b[0;32m   4033\u001b[0m \u001b[1;33m\u001b[0m\u001b[0m\n\u001b[1;32m-> 4034\u001b[1;33m     \u001b[0mxmean\u001b[0m \u001b[1;33m=\u001b[0m \u001b[0mx\u001b[0m\u001b[1;33m.\u001b[0m\u001b[0mmean\u001b[0m\u001b[1;33m(\u001b[0m\u001b[0mdtype\u001b[0m\u001b[1;33m=\u001b[0m\u001b[0mdtype\u001b[0m\u001b[1;33m)\u001b[0m\u001b[1;33m\u001b[0m\u001b[1;33m\u001b[0m\u001b[0m\n\u001b[0m\u001b[0;32m   4035\u001b[0m     \u001b[0mymean\u001b[0m \u001b[1;33m=\u001b[0m \u001b[0my\u001b[0m\u001b[1;33m.\u001b[0m\u001b[0mmean\u001b[0m\u001b[1;33m(\u001b[0m\u001b[0mdtype\u001b[0m\u001b[1;33m=\u001b[0m\u001b[0mdtype\u001b[0m\u001b[1;33m)\u001b[0m\u001b[1;33m\u001b[0m\u001b[1;33m\u001b[0m\u001b[0m\n\u001b[0;32m   4036\u001b[0m \u001b[1;33m\u001b[0m\u001b[0m\n",
      "\u001b[1;32m~\\anaconda3\\envs\\my-rdkit-env1\\lib\\site-packages\\numpy\\core\\_methods.py\u001b[0m in \u001b[0;36m_mean\u001b[1;34m(a, axis, dtype, out, keepdims)\u001b[0m\n\u001b[0;32m    158\u001b[0m             \u001b[0mis_float16_result\u001b[0m \u001b[1;33m=\u001b[0m \u001b[1;32mTrue\u001b[0m\u001b[1;33m\u001b[0m\u001b[1;33m\u001b[0m\u001b[0m\n\u001b[0;32m    159\u001b[0m \u001b[1;33m\u001b[0m\u001b[0m\n\u001b[1;32m--> 160\u001b[1;33m     \u001b[0mret\u001b[0m \u001b[1;33m=\u001b[0m \u001b[0mumr_sum\u001b[0m\u001b[1;33m(\u001b[0m\u001b[0marr\u001b[0m\u001b[1;33m,\u001b[0m \u001b[0maxis\u001b[0m\u001b[1;33m,\u001b[0m \u001b[0mdtype\u001b[0m\u001b[1;33m,\u001b[0m \u001b[0mout\u001b[0m\u001b[1;33m,\u001b[0m \u001b[0mkeepdims\u001b[0m\u001b[1;33m)\u001b[0m\u001b[1;33m\u001b[0m\u001b[1;33m\u001b[0m\u001b[0m\n\u001b[0m\u001b[0;32m    161\u001b[0m     \u001b[1;32mif\u001b[0m \u001b[0misinstance\u001b[0m\u001b[1;33m(\u001b[0m\u001b[0mret\u001b[0m\u001b[1;33m,\u001b[0m \u001b[0mmu\u001b[0m\u001b[1;33m.\u001b[0m\u001b[0mndarray\u001b[0m\u001b[1;33m)\u001b[0m\u001b[1;33m:\u001b[0m\u001b[1;33m\u001b[0m\u001b[1;33m\u001b[0m\u001b[0m\n\u001b[0;32m    162\u001b[0m         ret = um.true_divide(\n",
      "\u001b[1;31mTypeError\u001b[0m: No loop matching the specified signature and casting was found for ufunc add"
     ]
    }
   ],
   "source": [
    "PearsonCoefficient(y_test, preds)"
   ]
  },
  {
   "cell_type": "code",
   "execution_count": 31,
   "metadata": {},
   "outputs": [],
   "source": [
    "from keras import initializers\n",
    "init_weights = initializers.glorot_normal(seed=0)"
   ]
  },
  {
   "cell_type": "code",
   "execution_count": 32,
   "metadata": {},
   "outputs": [],
   "source": [
    "# hidden activation layer\n",
    "hidden_size = 32\n",
    "dense_1_func = Dense(hidden_size, activation=\"relu\", name=\"Fully-Connected-Latent\", kernel_initializer=init_weights)"
   ]
  },
  {
   "cell_type": "code",
   "execution_count": 33,
   "metadata": {},
   "outputs": [],
   "source": [
    "# VAE sampling\n",
    "def sampling(args):\n",
    "    z_mean, z_log_var = args\n",
    "    batch = K.shape(z_mean)[0]\n",
    "    dim = K.int_shape(z_mean)[1]\n",
    "    epsilon = K.random_normal((batch, dim), mean=0.0, stddev=1.0)\n",
    "    return z_mean + K.exp(0.5 * z_log_var) * epsilon # mu + sigma*epsilon yields a shifted, rescaled gaussian, \n",
    "                                                     # if epsilon is the standard gaussian\n",
    "\n",
    "# encode to latent space\n",
    "latent_dim = 41\n",
    "z_mean_func = Dense(latent_dim, name='z_mean')\n",
    "log_z_func = Dense(latent_dim, name='z_log_var')\n",
    "z_func = Lambda(sampling, name='z_sample')"
   ]
  },
  {
   "cell_type": "code",
   "execution_count": 36,
   "metadata": {},
   "outputs": [],
   "source": [
    "# this repeat vector just repeats the input `max_smiles_chars` times \n",
    "# so that we get a value for each character of the SMILES string\n",
    "repeat_1_func = RepeatVector(max_smiles_chars, name=\"Repeat-Latent-1\")\n",
    "\n",
    "# RNN decoder\n",
    "rnn_size = 41\n",
    "gru_1_func = GRU(rnn_size, name=\"RNN-decoder-1\", return_sequences=True, kernel_initializer=init_weights)\n",
    "gru_2_func = GRU(rnn_size, name=\"RNN-decoder-2\", return_sequences=True, kernel_initializer=init_weights)\n",
    "gru_3_func = GRU(rnn_size, name=\"RNN-decoder-3\", return_sequences=True, kernel_initializer=init_weights)"
   ]
  },
  {
   "cell_type": "code",
   "execution_count": 37,
   "metadata": {},
   "outputs": [],
   "source": [
    "output_func = TimeDistributed(\n",
    "    Dense(charset_length, activation=\"softmax\", name=\"SMILES-Output\", kernel_initializer=init_weights), \n",
    "    name=\"Time-Distributed\"\n",
    ")"
   ]
  },
  {
   "cell_type": "code",
   "execution_count": 38,
   "metadata": {},
   "outputs": [
    {
     "ename": "NameError",
     "evalue": "name 'conv_1_func' is not defined",
     "output_type": "error",
     "traceback": [
      "\u001b[1;31m---------------------------------------------------------------------------\u001b[0m",
      "\u001b[1;31mNameError\u001b[0m                                 Traceback (most recent call last)",
      "\u001b[1;32m~\\AppData\\Local\\Temp\\ipykernel_10152\\1030393558.py\u001b[0m in \u001b[0;36m<module>\u001b[1;34m\u001b[0m\n\u001b[0;32m      2\u001b[0m \u001b[1;33m\u001b[0m\u001b[0m\n\u001b[0;32m      3\u001b[0m \u001b[1;31m# cnn encoder layers\u001b[0m\u001b[1;33m\u001b[0m\u001b[1;33m\u001b[0m\u001b[1;33m\u001b[0m\u001b[0m\n\u001b[1;32m----> 4\u001b[1;33m \u001b[0mconv_1_fwd\u001b[0m \u001b[1;33m=\u001b[0m \u001b[0mconv_1_func\u001b[0m\u001b[1;33m(\u001b[0m\u001b[0msmiles_input\u001b[0m\u001b[1;33m)\u001b[0m\u001b[1;33m\u001b[0m\u001b[1;33m\u001b[0m\u001b[0m\n\u001b[0m\u001b[0;32m      5\u001b[0m \u001b[0mconv_2_fwd\u001b[0m \u001b[1;33m=\u001b[0m \u001b[0mconv_2_func\u001b[0m\u001b[1;33m(\u001b[0m\u001b[0mconv_1_fwd\u001b[0m\u001b[1;33m)\u001b[0m\u001b[1;33m\u001b[0m\u001b[1;33m\u001b[0m\u001b[0m\n\u001b[0;32m      6\u001b[0m \u001b[0mconv_3_fwd\u001b[0m \u001b[1;33m=\u001b[0m \u001b[0mconv_3_func\u001b[0m\u001b[1;33m(\u001b[0m\u001b[0mconv_2_fwd\u001b[0m\u001b[1;33m)\u001b[0m\u001b[1;33m\u001b[0m\u001b[1;33m\u001b[0m\u001b[0m\n",
      "\u001b[1;31mNameError\u001b[0m: name 'conv_1_func' is not defined"
     ]
    }
   ],
   "source": [
    "# connecting the VAE model as a graph\n",
    "\n",
    "# cnn encoder layers\n",
    "conv_1_fwd = conv_1_func(smiles_input)\n",
    "conv_2_fwd = conv_2_func(conv_1_fwd)\n",
    "conv_3_fwd = conv_3_func(conv_2_fwd)\n",
    "conv_4_fwd = conv_4_func(conv_3_fwd)\n",
    "\n",
    "# flattening\n",
    "flattened_convs = flatten_func(conv_4_fwd)\n",
    "dense_1_fwd = dense_1_func(flattened_convs)\n",
    "\n",
    "# latent space\n",
    "z_mean = z_mean_func(dense_1_fwd)\n",
    "z_log_var = log_z_func(dense_1_fwd)\n",
    "z = z_func([z_mean, z_log_var])\n",
    "\n",
    "# rnn decoder layers\n",
    "repeat_1_fwd = repeat_1_func(z)\n",
    "gru_1_fwd = gru_1_func(repeat_1_fwd)\n",
    "gru_2_fwd = gru_2_func(gru_1_fwd)\n",
    "gru_3_fwd = gru_3_func(gru_2_fwd)\n",
    "smiles_output = output_func(gru_3_fwd)"
   ]
  },
  {
   "cell_type": "code",
   "execution_count": null,
   "metadata": {},
   "outputs": [],
   "source": []
  }
 ],
 "metadata": {
  "kernelspec": {
   "display_name": "Python 3",
   "language": "python",
   "name": "python3"
  },
  "language_info": {
   "codemirror_mode": {
    "name": "ipython",
    "version": 3
   },
   "file_extension": ".py",
   "mimetype": "text/x-python",
   "name": "python",
   "nbconvert_exporter": "python",
   "pygments_lexer": "ipython3",
   "version": "3.7.6"
  }
 },
 "nbformat": 4,
 "nbformat_minor": 2
}
